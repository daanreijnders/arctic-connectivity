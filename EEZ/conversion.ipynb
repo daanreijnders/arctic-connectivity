{
 "cells": [
  {
   "cell_type": "code",
   "execution_count": 1,
   "metadata": {},
   "outputs": [],
   "source": [
    "# Using rasterio packages"
   ]
  },
  {
   "cell_type": "code",
   "execution_count": 18,
   "metadata": {},
   "outputs": [],
   "source": [
    "import xshape\n",
    "import xarray as xr\n",
    "import matplotlib.pyplot as plt\n",
    "import numpy as np\n",
    "import cartopy\n",
    "import cartopy.crs as ccrs\n",
    "import pandas as pd\n",
    "from netCDF4 import Dataset\n",
    "import pickle\n",
    "import time"
   ]
  },
  {
   "cell_type": "code",
   "execution_count": 3,
   "metadata": {},
   "outputs": [],
   "source": [
    "# Load data from shapefile using xshape (which uses xarray)\n",
    "sf_dir = 'World_EEZ_v10_20180221_HR_0_360/'\n",
    "fields, polygons = xshape.parse_shapefile(\n",
    "    sf_dir + 'World_EEZ_v10_2018_0_360',\n",
    "    encoding='latin1')"
   ]
  },
  {
   "cell_type": "code",
   "execution_count": 4,
   "metadata": {},
   "outputs": [
    {
     "data": {
      "text/plain": [
       "<xarray.Dataset>\n",
       "Dimensions:     (shape: 283)\n",
       "Coordinates:\n",
       "  * shape       (shape) int64 0 1 2 3 4 5 6 7 ... 276 277 278 279 280 281 282\n",
       "Data variables:\n",
       "    cat         (shape) <U90 '45' '229' '253' '2' ... '249' '97' '57' '267'\n",
       "    MRGID       (shape) <U90 '8323.0' '26526.0' '48957.0' ... '8339.0' '48975.0'\n",
       "    GeoName     (shape) <U90 'Australian Exclusive Economic Zone' ... 'Joint regime area Iceland / Norway (Jan Mayen)'\n",
       "    MRGID_Ter1  (shape) <U90 '2147.0' '26525.0' '8599.0' ... '8610.0' '2129.0'\n",
       "    Pol_type    (shape) <U90 '200NM' '200NM' '200NM' ... '200NM' 'Joint regime'\n",
       "    MRGID_Sov1  (shape) <U90 '2147.0' '15.0' '2204.0' ... '17.0' '2129.0'\n",
       "    Territory1  (shape) <U90 'Australia' 'Sint-Eustatius' ... 'Iceland'\n",
       "    ISO_Ter1    (shape) <U90 'AUS' 'BES' 'GUM' 'NLD' ... 'PSE' 'BRA' 'ATF' 'ISL'\n",
       "    Sovereign1  (shape) <U90 'Australia' 'Netherlands' ... 'France' 'Iceland'\n",
       "    MRGID_Ter2  (shape) <U90 '0.0' '0.0' '0.0' '0.0' ... '0.0' '0.0' '5343.0'\n",
       "    MRGID_Sov2  (shape) <U90 '0.0' '0.0' '0.0' '0.0' ... '0.0' '0.0' '2252.0'\n",
       "    Territory2  (shape) <U90 '' '' '' '' '' '' ... '' 'Israel' '' '' 'Jan Mayen'\n",
       "    ISO_Ter2    (shape) <U90 '' '' '' '' '' '' '' ... '' '' '' 'ISR' '' '' 'SJM'\n",
       "    Sovereign2  (shape) <U90 '' '' '' '' '' '' ... '' '' 'Israel' '' '' 'Norway'\n",
       "    MRGID_Ter3  (shape) <U90 '0.0' '0.0' '0.0' '0.0' ... '0.0' '0.0' '0.0' '0.0'\n",
       "    MRGID_Sov3  (shape) <U90 '0.0' '0.0' '0.0' '0.0' ... '0.0' '0.0' '0.0' '0.0'\n",
       "    Territory3  (shape) <U90 '' '' '' '' '' '' '' '' ... '' '' '' '' '' '' '' ''\n",
       "    ISO_Ter3    (shape) <U90 '' '' '' '' '' '' '' '' ... '' '' '' '' '' '' '' ''\n",
       "    Sovereign3  (shape) <U90 '' '' '' '' '' '' '' '' ... '' '' '' '' '' '' '' ''\n",
       "    x_1         (shape) <U90 '138.083586329' ... '-8.50000000001'\n",
       "    y_1         (shape) <U90 '-27.3692276503' ... '69.2916666666'\n",
       "    MRGID_EEZ   (shape) <U90 '8323.0' '26526.0' '48957.0' ... '8339.0' '48975.0'\n",
       "    Area_km2    (shape) <U90 '6881490.0' '2183.0' ... '62982.0' '45202.0'"
      ]
     },
     "execution_count": 4,
     "metadata": {},
     "output_type": "execute_result"
    }
   ],
   "source": [
    "fields"
   ]
  },
  {
   "cell_type": "code",
   "execution_count": 6,
   "metadata": {},
   "outputs": [
    {
     "data": {
      "text/html": [
       "<div>\n",
       "<style scoped>\n",
       "    .dataframe tbody tr th:only-of-type {\n",
       "        vertical-align: middle;\n",
       "    }\n",
       "\n",
       "    .dataframe tbody tr th {\n",
       "        vertical-align: top;\n",
       "    }\n",
       "\n",
       "    .dataframe thead th {\n",
       "        text-align: right;\n",
       "    }\n",
       "</style>\n",
       "<table border=\"1\" class=\"dataframe\">\n",
       "  <thead>\n",
       "    <tr style=\"text-align: right;\">\n",
       "      <th></th>\n",
       "      <th>ID</th>\n",
       "      <th>ISO</th>\n",
       "      <th>GeoName</th>\n",
       "    </tr>\n",
       "    <tr>\n",
       "      <th>MRGID</th>\n",
       "      <th></th>\n",
       "      <th></th>\n",
       "      <th></th>\n",
       "    </tr>\n",
       "  </thead>\n",
       "  <tbody>\n",
       "    <tr>\n",
       "      <th>8323</th>\n",
       "      <td>45</td>\n",
       "      <td>AUS</td>\n",
       "      <td>Australian Exclusive Economic Zone</td>\n",
       "    </tr>\n",
       "    <tr>\n",
       "      <th>26526</th>\n",
       "      <td>229</td>\n",
       "      <td>BES</td>\n",
       "      <td>Sint-Eustatius Exclusive Economic Zone</td>\n",
       "    </tr>\n",
       "    <tr>\n",
       "      <th>48957</th>\n",
       "      <td>253</td>\n",
       "      <td>GUM</td>\n",
       "      <td>Guam Exclusive Economic Zone</td>\n",
       "    </tr>\n",
       "    <tr>\n",
       "      <th>5668</th>\n",
       "      <td>2</td>\n",
       "      <td>NLD</td>\n",
       "      <td>Dutch Exclusive Economic Zone</td>\n",
       "    </tr>\n",
       "    <tr>\n",
       "      <th>8394</th>\n",
       "      <td>110</td>\n",
       "      <td>COG</td>\n",
       "      <td>Congolese Exclusive Economic Zone</td>\n",
       "    </tr>\n",
       "  </tbody>\n",
       "</table>\n",
       "</div>"
      ],
      "text/plain": [
       "        ID  ISO                                 GeoName\n",
       "MRGID                                                  \n",
       "8323    45  AUS      Australian Exclusive Economic Zone\n",
       "26526  229  BES  Sint-Eustatius Exclusive Economic Zone\n",
       "48957  253  GUM            Guam Exclusive Economic Zone\n",
       "5668     2  NLD           Dutch Exclusive Economic Zone\n",
       "8394   110  COG       Congolese Exclusive Economic Zone"
      ]
     },
     "execution_count": 6,
     "metadata": {},
     "output_type": "execute_result"
    }
   ],
   "source": [
    "# Store MRGID, cat, ISO country codes and full name in dataframe\n",
    "field_MRGID = fields['MRGID'].data.astype(float).astype(int)\n",
    "field_cat = fields['cat'].data.astype(float).astype(int)\n",
    "field_iso = fields['ISO_Ter1'].data\n",
    "field_GeoName = fields['GeoName'].data\n",
    "EEZ_df = pd.DataFrame(zip(field_cat, field_MRGID, field_iso, field_GeoName), columns=['ID','MRGID','ISO','GeoName'])\n",
    "EEZ_df.set_index('MRGID', inplace=True)\n",
    "EEZ_df.head()"
   ]
  },
  {
   "cell_type": "code",
   "execution_count": 7,
   "metadata": {},
   "outputs": [],
   "source": [
    "# Tiff file burned by Isolde Glissenaar\n",
    "eez_tiff = xr.open_rasterio('eez.tiff')"
   ]
  },
  {
   "cell_type": "code",
   "execution_count": 8,
   "metadata": {},
   "outputs": [],
   "source": [
    "EEZ = np.copy(eez_tiff[0, :, :])\n",
    "for k, v in EEZ_df.to_dict()['ID'].items(): \n",
    "    EEZ[eez_tiff[0, :, :]==k] = v\n",
    "lats = eez_tiff['y']\n",
    "lons = eez_tiff['x']"
   ]
  },
  {
   "cell_type": "code",
   "execution_count": 9,
   "metadata": {},
   "outputs": [
    {
     "data": {
      "image/png": "[encoded data removed]",
      "text/plain": [
       "<Figure size 432x288 with 1 Axes>"
      ]
     },
     "metadata": {
      "needs_background": "light"
     },
     "output_type": "display_data"
    }
   ],
   "source": [
    "fig = plt.figure()\n",
    "ax = fig.add_subplot(1, 1, 1, projection=ccrs.PlateCarree())\n",
    "plt.pcolormesh(lons, lats, EEZ, cmap='Set3')\n",
    "plt.show()"
   ]
  },
  {
   "cell_type": "code",
   "execution_count": 11,
   "metadata": {},
   "outputs": [],
   "source": [
    "outfile = open('EEZ_mapping_df.pickle', 'wb')\n",
    "pickle.dump(EEZ_df, outfile)"
   ]
  },
  {
   "cell_type": "code",
   "execution_count": 14,
   "metadata": {},
   "outputs": [],
   "source": [
    "ds = Dataset('EEZ_export.nc', 'w', format='NETCDF4_CLASSIC')"
   ]
  },
  {
   "cell_type": "code",
   "execution_count": 15,
   "metadata": {},
   "outputs": [],
   "source": [
    "nc_dim_lat = ds.createDimension('lat', 1726)\n",
    "nc_dim_lon = ds.createDimension('lon', 3600)\n",
    "nc_dim_time = ds.createDimension('time', None)"
   ]
  },
  {
   "cell_type": "code",
   "execution_count": 16,
   "metadata": {},
   "outputs": [],
   "source": [
    "nc_var_lat = ds.createVariable('latitude', np.float32, ('lat',))\n",
    "nc_var_lon = ds.createVariable('longitude', np.float32, ('lon',))\n",
    "nc_var_times = ds.createVariable('time', np.float32, ('time',))\n",
    "nc_var_EEZ = ds.createVariable('EEZ', np.float32, ('time', 'lat', 'lon'))"
   ]
  },
  {
   "cell_type": "code",
   "execution_count": 19,
   "metadata": {},
   "outputs": [],
   "source": [
    "# Global attributes\n",
    "ds.description = \"EEZ fields on 0.1 degree grid. Numbers correspond to regions as specified in self-made dictionary\"\n",
    "ds.history = \"Created\" + time.ctime(time.time())"
   ]
  },
  {
   "cell_type": "code",
   "execution_count": 23,
   "metadata": {},
   "outputs": [],
   "source": [
    "nc_var_lat.units = 'degree_north'\n",
    "nc_var_lat.long_name = 'Center latitude'\n",
    "nc_var_lon.units = 'degree_east'\n",
    "nc_var_lon.long_name = 'Center longitude'\n",
    "nc_var_EEZ.long_name = 'Exclusive economic zone - Code number of country  island or area to which EEZ area of this cell belongs for all coastal and oceanic cells'"
   ]
  },
  {
   "cell_type": "code",
   "execution_count": 24,
   "metadata": {},
   "outputs": [],
   "source": [
    "nc_var_lat[:] = lats\n",
    "nc_var_lon[:] = lons\n",
    "nc_var_EEZ[0,:,:] = EEZ"
   ]
  },
  {
   "cell_type": "code",
   "execution_count": 25,
   "metadata": {},
   "outputs": [],
   "source": [
    "ds.close() #DONE"
   ]
  },
  {
   "cell_type": "code",
   "execution_count": null,
   "metadata": {},
   "outputs": [],
   "source": []
  }
 ],
 "metadata": {
  "kernelspec": {
   "display_name": "Python 3",
   "language": "python",
   "name": "python3"
  },
  "language_info": {
   "codemirror_mode": {
    "name": "ipython",
    "version": 3
   },
   "file_extension": ".py",
   "mimetype": "text/x-python",
   "name": "python",
   "nbconvert_exporter": "python",
   "pygments_lexer": "ipython3",
   "version": "3.7.3"
  }
 },
 "nbformat": 4,
 "nbformat_minor": 2
}
