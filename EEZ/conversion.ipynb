{
 "cells": [
  {
   "cell_type": "code",
   "execution_count": null,
   "metadata": {},
   "outputs": [],
   "source": [
    "# using rasterio packages, missing netCDF4. For export of netCDF file, see conversion2"
   ]
  },
  {
   "cell_type": "code",
   "execution_count": 1,
   "metadata": {},
   "outputs": [],
   "source": [
    "import xshape\n",
    "import xarray as xr\n",
    "import matplotlib.pyplot as plt\n",
    "import numpy as np\n",
    "import cartopy\n",
    "import cartopy.crs as ccrs\n",
    "import pandas as pd\n",
    "from netCDF4 import Dataset"
   ]
  },
  {
   "cell_type": "code",
   "execution_count": 3,
   "metadata": {},
   "outputs": [],
   "source": [
    "sf_dir = 'World_EEZ_v10_20180221_HR_0_360/'\n",
    "fields, polygons = xshape.parse_shapefile(\n",
    "    sf_dir + 'World_EEZ_v10_2018_0_360',\n",
    "    encoding='latin1')"
   ]
  },
  {
   "cell_type": "code",
   "execution_count": 4,
   "metadata": {},
   "outputs": [
    {
     "data": {
      "text/plain": [
       "<xarray.Dataset>\n",
       "Dimensions:     (shape: 283)\n",
       "Coordinates:\n",
       "  * shape       (shape) int64 0 1 2 3 4 5 6 7 ... 276 277 278 279 280 281 282\n",
       "Data variables:\n",
       "    cat         (shape) <U90 '45' '229' '253' '2' ... '249' '97' '57' '267'\n",
       "    MRGID       (shape) <U90 '8323.0' '26526.0' '48957.0' ... '8339.0' '48975.0'\n",
       "    GeoName     (shape) <U90 'Australian Exclusive Economic Zone' ... 'Joint regime area Iceland / Norway (Jan Mayen)'\n",
       "    MRGID_Ter1  (shape) <U90 '2147.0' '26525.0' '8599.0' ... '8610.0' '2129.0'\n",
       "    Pol_type    (shape) <U90 '200NM' '200NM' '200NM' ... '200NM' 'Joint regime'\n",
       "    MRGID_Sov1  (shape) <U90 '2147.0' '15.0' '2204.0' ... '17.0' '2129.0'\n",
       "    Territory1  (shape) <U90 'Australia' 'Sint-Eustatius' ... 'Iceland'\n",
       "    ISO_Ter1    (shape) <U90 'AUS' 'BES' 'GUM' 'NLD' ... 'PSE' 'BRA' 'ATF' 'ISL'\n",
       "    Sovereign1  (shape) <U90 'Australia' 'Netherlands' ... 'France' 'Iceland'\n",
       "    MRGID_Ter2  (shape) <U90 '0.0' '0.0' '0.0' '0.0' ... '0.0' '0.0' '5343.0'\n",
       "    MRGID_Sov2  (shape) <U90 '0.0' '0.0' '0.0' '0.0' ... '0.0' '0.0' '2252.0'\n",
       "    Territory2  (shape) <U90 '' '' '' '' '' '' ... '' 'Israel' '' '' 'Jan Mayen'\n",
       "    ISO_Ter2    (shape) <U90 '' '' '' '' '' '' '' ... '' '' '' 'ISR' '' '' 'SJM'\n",
       "    Sovereign2  (shape) <U90 '' '' '' '' '' '' ... '' '' 'Israel' '' '' 'Norway'\n",
       "    MRGID_Ter3  (shape) <U90 '0.0' '0.0' '0.0' '0.0' ... '0.0' '0.0' '0.0' '0.0'\n",
       "    MRGID_Sov3  (shape) <U90 '0.0' '0.0' '0.0' '0.0' ... '0.0' '0.0' '0.0' '0.0'\n",
       "    Territory3  (shape) <U90 '' '' '' '' '' '' '' '' ... '' '' '' '' '' '' '' ''\n",
       "    ISO_Ter3    (shape) <U90 '' '' '' '' '' '' '' '' ... '' '' '' '' '' '' '' ''\n",
       "    Sovereign3  (shape) <U90 '' '' '' '' '' '' '' '' ... '' '' '' '' '' '' '' ''\n",
       "    x_1         (shape) <U90 '138.083586329' ... '-8.50000000001'\n",
       "    y_1         (shape) <U90 '-27.3692276503' ... '69.2916666666'\n",
       "    MRGID_EEZ   (shape) <U90 '8323.0' '26526.0' '48957.0' ... '8339.0' '48975.0'\n",
       "    Area_km2    (shape) <U90 '6881490.0' '2183.0' ... '62982.0' '45202.0'"
      ]
     },
     "execution_count": 4,
     "metadata": {},
     "output_type": "execute_result"
    }
   ],
   "source": [
    "fields"
   ]
  },
  {
   "cell_type": "code",
   "execution_count": 5,
   "metadata": {},
   "outputs": [
    {
     "data": {
      "text/html": [
       "<div>\n",
       "<style scoped>\n",
       "    .dataframe tbody tr th:only-of-type {\n",
       "        vertical-align: middle;\n",
       "    }\n",
       "\n",
       "    .dataframe tbody tr th {\n",
       "        vertical-align: top;\n",
       "    }\n",
       "\n",
       "    .dataframe thead th {\n",
       "        text-align: right;\n",
       "    }\n",
       "</style>\n",
       "<table border=\"1\" class=\"dataframe\">\n",
       "  <thead>\n",
       "    <tr style=\"text-align: right;\">\n",
       "      <th></th>\n",
       "      <th>ISO</th>\n",
       "      <th>ID</th>\n",
       "    </tr>\n",
       "    <tr>\n",
       "      <th>MRGID</th>\n",
       "      <th></th>\n",
       "      <th></th>\n",
       "    </tr>\n",
       "  </thead>\n",
       "  <tbody>\n",
       "    <tr>\n",
       "      <th>8323</th>\n",
       "      <td>AUS</td>\n",
       "      <td>0</td>\n",
       "    </tr>\n",
       "    <tr>\n",
       "      <th>26526</th>\n",
       "      <td>BES</td>\n",
       "      <td>1</td>\n",
       "    </tr>\n",
       "    <tr>\n",
       "      <th>48957</th>\n",
       "      <td>GUM</td>\n",
       "      <td>2</td>\n",
       "    </tr>\n",
       "    <tr>\n",
       "      <th>5668</th>\n",
       "      <td>NLD</td>\n",
       "      <td>3</td>\n",
       "    </tr>\n",
       "    <tr>\n",
       "      <th>8394</th>\n",
       "      <td>COG</td>\n",
       "      <td>4</td>\n",
       "    </tr>\n",
       "  </tbody>\n",
       "</table>\n",
       "</div>"
      ],
      "text/plain": [
       "       ISO  ID\n",
       "MRGID         \n",
       "8323   AUS   0\n",
       "26526  BES   1\n",
       "48957  GUM   2\n",
       "5668   NLD   3\n",
       "8394   COG   4"
      ]
     },
     "execution_count": 5,
     "metadata": {},
     "output_type": "execute_result"
    }
   ],
   "source": [
    "field_ids = fields['MRGID'].data.astype(float).astype(int)\n",
    "field_iso = fields['ISO_Ter1'].data\n",
    "field_new_id = np.arange(len(fields['MRGID']))\n",
    "eez_df = pd.DataFrame(zip(field_ids, field_iso), columns=['MRGID','ISO'])\n",
    "eez_df['ID'] = field_new_id\n",
    "eez_df.set_index('MRGID', inplace=True)\n",
    "eez_df.head()"
   ]
  },
  {
   "cell_type": "code",
   "execution_count": 6,
   "metadata": {},
   "outputs": [],
   "source": [
    "eez_tiff = xr.open_rasterio('eez.tiff')"
   ]
  },
  {
   "cell_type": "code",
   "execution_count": 12,
   "metadata": {},
   "outputs": [],
   "source": [
    "EEZ = np.copy(eez_tiff[0, :, :])\n",
    "for k, v in eez_df['ID'].to_dict().items(): EEZ[eez_tiff[0, :, :]==k] = v\n",
    "lats = eez_tiff['y']\n",
    "lons = eez_tiff['x']"
   ]
  },
  {
   "cell_type": "code",
   "execution_count": 14,
   "metadata": {},
   "outputs": [
    {
     "data": {
      "image/png": "[encoded data removed]",
      "text/plain": [
       "<Figure size 432x288 with 1 Axes>"
      ]
     },
     "metadata": {
      "needs_background": "light"
     },
     "output_type": "display_data"
    }
   ],
   "source": [
    "fig = plt.figure()\n",
    "ax = fig.add_subplot(1, 1, 1, projection=ccrs.PlateCarree())\n",
    "plt.pcolormesh(lons, lats, EEZ, cmap='Set3')\n",
    "plt.show()"
   ]
  },
  {
   "cell_type": "code",
   "execution_count": 16,
   "metadata": {},
   "outputs": [],
   "source": [
    "EEZ_dict = {\n",
    "    'lats': lats,\n",
    "    'lons': lons,\n",
    "    'EEZ': EEZ,\n",
    "    'fields': fields,\n",
    "    'df': eez_df\n",
    "}"
   ]
  },
  {
   "cell_type": "code",
   "execution_count": 18,
   "metadata": {},
   "outputs": [],
   "source": [
    "import pickle"
   ]
  },
  {
   "cell_type": "code",
   "execution_count": null,
   "metadata": {},
   "outputs": [],
   "source": [
    "outfile = open('')\n",
    "pickle.dump(EEZ_dict, '')\n",
    "EEZ_dict"
   ]
  }
 ],
 "metadata": {
  "kernelspec": {
   "display_name": "Python 3",
   "language": "python",
   "name": "python3"
  },
  "language_info": {
   "codemirror_mode": {
    "name": "ipython",
    "version": 3
   },
   "file_extension": ".py",
   "mimetype": "text/x-python",
   "name": "python",
   "nbconvert_exporter": "python",
   "pygments_lexer": "ipython3",
   "version": "3.7.2"
  }
 },
 "nbformat": 4,
 "nbformat_minor": 2
}
