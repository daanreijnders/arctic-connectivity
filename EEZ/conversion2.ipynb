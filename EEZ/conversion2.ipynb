{
 "cells": [
  {
   "cell_type": "code",
   "execution_count": 24,
   "metadata": {},
   "outputs": [],
   "source": [
    "import pickle\n",
    "from netCDF4 import Dataset\n",
    "import numpy as np\n",
    "import time"
   ]
  },
  {
   "cell_type": "code",
   "execution_count": 4,
   "metadata": {},
   "outputs": [],
   "source": [
    "pickleFile = open('EEZ.pickle', 'rb')"
   ]
  },
  {
   "cell_type": "code",
   "execution_count": 5,
   "metadata": {},
   "outputs": [
    {
     "name": "stderr",
     "output_type": "stream",
     "text": [
      "/Users/daanreijnders/anaconda3/lib/python3.7/site-packages/distributed/utils.py:134: RuntimeWarning: Couldn't detect a suitable IP address for reaching '8.8.8.8', defaulting to '127.0.0.1': [Errno 51] Network is unreachable\n",
      "  % (host, default, e), RuntimeWarning)\n"
     ]
    }
   ],
   "source": [
    "EEZ_dict = pickle.load(pickleFile)"
   ]
  },
  {
   "cell_type": "code",
   "execution_count": 7,
   "metadata": {},
   "outputs": [],
   "source": [
    "ds = Dataset('EEZ_export.nc', 'w', format='NETCDF4_CLASSIC')"
   ]
  },
  {
   "cell_type": "code",
   "execution_count": 12,
   "metadata": {},
   "outputs": [
    {
     "data": {
      "text/plain": [
       "{'lats': <xarray.DataArray 'y' (y: 1726)>\n",
       " array([ 86.944005,  86.844005,  86.744005, ..., -85.355995, -85.455995,\n",
       "        -85.555995])\n",
       " Coordinates:\n",
       "   * y        (y) float64 86.94 86.84 86.74 86.64 ... -85.26 -85.36 -85.46 -85.56,\n",
       " 'lons': <xarray.DataArray 'x' (x: 3600)>\n",
       " array([-179.95, -179.85, -179.75, ...,  179.75,  179.85,  179.95])\n",
       " Coordinates:\n",
       "   * x        (x) float64 -180.0 -179.9 -179.8 -179.7 ... 179.6 179.7 179.8 179.9,\n",
       " 'EEZ': array([[0., 0., 0., ..., 0., 0., 0.],\n",
       "        [0., 0., 0., ..., 0., 0., 0.],\n",
       "        [0., 0., 0., ..., 0., 0., 0.],\n",
       "        ...,\n",
       "        [0., 0., 0., ..., 0., 0., 0.],\n",
       "        [0., 0., 0., ..., 0., 0., 0.],\n",
       "        [0., 0., 0., ..., 0., 0., 0.]], dtype=float32),\n",
       " 'fields': <xarray.Dataset>\n",
       " Dimensions:     (shape: 283)\n",
       " Coordinates:\n",
       "   * shape       (shape) int64 0 1 2 3 4 5 6 7 ... 276 277 278 279 280 281 282\n",
       " Data variables:\n",
       "     cat         (shape) <U90 '45' '229' '253' '2' ... '249' '97' '57' '267'\n",
       "     MRGID       (shape) <U90 '8323.0' '26526.0' '48957.0' ... '8339.0' '48975.0'\n",
       "     GeoName     (shape) <U90 'Australian Exclusive Economic Zone' ... 'Joint regime area Iceland / Norway (Jan Mayen)'\n",
       "     MRGID_Ter1  (shape) <U90 '2147.0' '26525.0' '8599.0' ... '8610.0' '2129.0'\n",
       "     Pol_type    (shape) <U90 '200NM' '200NM' '200NM' ... '200NM' 'Joint regime'\n",
       "     MRGID_Sov1  (shape) <U90 '2147.0' '15.0' '2204.0' ... '17.0' '2129.0'\n",
       "     Territory1  (shape) <U90 'Australia' 'Sint-Eustatius' ... 'Iceland'\n",
       "     ISO_Ter1    (shape) <U90 'AUS' 'BES' 'GUM' 'NLD' ... 'PSE' 'BRA' 'ATF' 'ISL'\n",
       "     Sovereign1  (shape) <U90 'Australia' 'Netherlands' ... 'France' 'Iceland'\n",
       "     MRGID_Ter2  (shape) <U90 '0.0' '0.0' '0.0' '0.0' ... '0.0' '0.0' '5343.0'\n",
       "     MRGID_Sov2  (shape) <U90 '0.0' '0.0' '0.0' '0.0' ... '0.0' '0.0' '2252.0'\n",
       "     Territory2  (shape) <U90 '' '' '' '' '' '' ... '' 'Israel' '' '' 'Jan Mayen'\n",
       "     ISO_Ter2    (shape) <U90 '' '' '' '' '' '' '' ... '' '' '' 'ISR' '' '' 'SJM'\n",
       "     Sovereign2  (shape) <U90 '' '' '' '' '' '' ... '' '' 'Israel' '' '' 'Norway'\n",
       "     MRGID_Ter3  (shape) <U90 '0.0' '0.0' '0.0' '0.0' ... '0.0' '0.0' '0.0' '0.0'\n",
       "     MRGID_Sov3  (shape) <U90 '0.0' '0.0' '0.0' '0.0' ... '0.0' '0.0' '0.0' '0.0'\n",
       "     Territory3  (shape) <U90 '' '' '' '' '' '' '' '' ... '' '' '' '' '' '' '' ''\n",
       "     ISO_Ter3    (shape) <U90 '' '' '' '' '' '' '' '' ... '' '' '' '' '' '' '' ''\n",
       "     Sovereign3  (shape) <U90 '' '' '' '' '' '' '' '' ... '' '' '' '' '' '' '' ''\n",
       "     x_1         (shape) <U90 '138.083586329' ... '-8.50000000001'\n",
       "     y_1         (shape) <U90 '-27.3692276503' ... '69.2916666666'\n",
       "     MRGID_EEZ   (shape) <U90 '8323.0' '26526.0' '48957.0' ... '8339.0' '48975.0'\n",
       "     Area_km2    (shape) <U90 '6881490.0' '2183.0' ... '62982.0' '45202.0',\n",
       " 'df':        ISO   ID\n",
       " MRGID          \n",
       " 8323   AUS    0\n",
       " 26526  BES    1\n",
       " 48957  GUM    2\n",
       " 5668   NLD    3\n",
       " 8394   COG    4\n",
       " 8366   TUN    5\n",
       " 8404   BHS    6\n",
       " 5695   UKR    7\n",
       " 5689   ROU    8\n",
       " 26518  BES    9\n",
       " 5684   LTU   10\n",
       " 8359   PAK   11\n",
       " 26517  CUW   12\n",
       " 8348   MDG   13\n",
       " 8362   CPV   14\n",
       " 48970  DOM   15\n",
       " 8333   IND   16\n",
       " 8312   NCL   17\n",
       " 8445   WSM   18\n",
       " 8473   CIV   19\n",
       " 8479   TZA   20\n",
       " 8331   KHM   21\n",
       " 5685   MLT   22\n",
       " 8327   KOR   23\n",
       " 8494   SPM   24\n",
       " 8402   BMU   25\n",
       " 21787  CHL   26\n",
       " 33179  PRI   27\n",
       " 8433   VEN   28\n",
       " 48967  GBR   29\n",
       " ...    ...  ...\n",
       " 8467   URY  253\n",
       " 48969  BRB  254\n",
       " 8369   MRT  255\n",
       " 49000  ESP  256\n",
       " 22491  BIH  257\n",
       " 33178  MTQ  258\n",
       " 5696   GBR  259\n",
       " 8448   TON  260\n",
       " 8351   ERI  261\n",
       " 8423   PAN  262\n",
       " 8343   MUS  263\n",
       " 8378   DZA  264\n",
       " 8447   NIU  265\n",
       " 8425   NIC  266\n",
       " 48954  TWN  267\n",
       " 8451   UMI  268\n",
       " 8471   GNB  269\n",
       " 8440   PYF  270\n",
       " 8462   GUF  271\n",
       " 48948  NCL  272\n",
       " 49001  ESP  273\n",
       " 5693   ESP  274\n",
       " 8453   USA  275\n",
       " 3293   BEL  276\n",
       " 8495   MAF  277\n",
       " 8332   THA  278\n",
       " 48953  PSE  279\n",
       " 8381   BRA  280\n",
       " 8339   ATF  281\n",
       " 48975  ISL  282\n",
       " \n",
       " [283 rows x 2 columns]}"
      ]
     },
     "execution_count": 12,
     "metadata": {},
     "output_type": "execute_result"
    }
   ],
   "source": [
    "EEZ_dict"
   ]
  },
  {
   "cell_type": "code",
   "execution_count": 20,
   "metadata": {},
   "outputs": [
    {
     "name": "stdout",
     "output_type": "stream",
     "text": [
      "Lats:  (1726,)\n",
      "Lons:  (3600,)\n",
      "EEZ:  (1726, 3600)\n"
     ]
    }
   ],
   "source": [
    "print('Lats: ', EEZ_dict['lats'].shape)\n",
    "print('Lons: ', EEZ_dict['lons'].shape)\n",
    "print('EEZ: ', EEZ_dict['EEZ'].shape)"
   ]
  },
  {
   "cell_type": "code",
   "execution_count": null,
   "metadata": {},
   "outputs": [],
   "source": [
    "nc_dim_lat = ds.createDimension('lat', 1726)\n",
    "nc_dim_lon = ds.createDimension('lon', 3600)\n",
    "nc_dim_time = ds.createDimension('time', None)"
   ]
  },
  {
   "cell_type": "code",
   "execution_count": 19,
   "metadata": {},
   "outputs": [],
   "source": [
    "nc_var_lat = ds.createVariable('latitude', np.float32, ('lat',))\n",
    "nc_var_lon = ds.createVariable('longitude', np.float32, ('lon',))\n",
    "nc_var_times = ds.createVariable('time', np.float32, ('time',))"
   ]
  },
  {
   "cell_type": "code",
   "execution_count": 21,
   "metadata": {},
   "outputs": [],
   "source": [
    "nc_var_EEZ = ds.createVariable('EEZ', np.float32, ('time', 'lat', 'lon'))"
   ]
  },
  {
   "cell_type": "code",
   "execution_count": 25,
   "metadata": {},
   "outputs": [],
   "source": [
    "# Global attributes\n",
    "ds.description = \"EEZ fields on 0.1 degree grid. Numbers correspond to regions as specified in self-made dictionary\"\n",
    "ds.history = \"Created\" + time.ctime(time.time())"
   ]
  },
  {
   "cell_type": "code",
   "execution_count": 28,
   "metadata": {},
   "outputs": [],
   "source": [
    "nc_var_lat.units = 'degree_north'\n",
    "nc_var_lon.units = 'degree_east'"
   ]
  },
  {
   "cell_type": "code",
   "execution_count": 29,
   "metadata": {},
   "outputs": [],
   "source": [
    "nc_var_lat[:] = EEZ_dict['lats']\n",
    "nc_var_lon[:] = EEZ_dict['lons']\n",
    "nc_var_EEZ[0,:,:] = EEZ_dict['EEZ']"
   ]
  },
  {
   "cell_type": "code",
   "execution_count": 30,
   "metadata": {},
   "outputs": [],
   "source": [
    "ds.close() #DONE"
   ]
  }
 ],
 "metadata": {
  "kernelspec": {
   "display_name": "Python 3",
   "language": "python",
   "name": "python3"
  },
  "language_info": {
   "codemirror_mode": {
    "name": "ipython",
    "version": 3
   },
   "file_extension": ".py",
   "mimetype": "text/x-python",
   "name": "python",
   "nbconvert_exporter": "python",
   "pygments_lexer": "ipython3",
   "version": "3.7.2"
  }
 },
 "nbformat": 4,
 "nbformat_minor": 2
}
