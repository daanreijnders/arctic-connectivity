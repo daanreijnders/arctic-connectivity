{
 "cells": [
  {
   "cell_type": "code",
   "execution_count": 2,
   "metadata": {},
   "outputs": [],
   "source": [
    "import numpy as np\n",
    "import matplotlib.pyplot as plt\n",
    "import xarray as xr"
   ]
  },
  {
   "cell_type": "code",
   "execution_count": 3,
   "metadata": {},
   "outputs": [],
   "source": [
    "EEZ_ds = xr.open_dataset('EEZ.nc4')"
   ]
  },
  {
   "cell_type": "code",
   "execution_count": 4,
   "metadata": {},
   "outputs": [
    {
     "data": {
      "text/plain": [
       "<xarray.Dataset>\n",
       "Dimensions:     (CenterLat: 360, CenterLong: 720, time: 5)\n",
       "Coordinates:\n",
       "  * time        (time) datetime64[ns] 1950-01-01 ... 2100-09-24T23:00:00\n",
       "  * CenterLat   (CenterLat) float64 -89.75 -89.25 -88.75 ... 88.75 89.25 89.75\n",
       "  * CenterLong  (CenterLong) float64 -179.8 -179.2 -178.8 ... 178.8 179.2 179.8\n",
       "Data variables:\n",
       "    EEZ         (time, CenterLat, CenterLong) float64 ...\n",
       "Attributes:\n",
       "    title:                     Half-Degree Cells Authority File (HCAF) contai...\n",
       "    institution:               ISTI-CNR\n",
       "    references:                Gianpaolo Coro gianpaolo.coro@isti.cnr.it\n",
       "    source:                    www.aquamaps.org\n",
       "    Conventions:               CF-1.0\n",
       "    time_min:                  0\n",
       "    time_max:                  883007\n",
       "    julian_day_unit:           hours since 1950-01-01\n",
       "    z_min:                     0\n",
       "    z_max:                     0\n",
       "    latitude_max:              90\n",
       "    latitude_min:              -90\n",
       "    longitude_max:             180\n",
       "    longitude_min:             -180\n",
       "    nco_openmp_thread_number:  1\n",
       "    History:                   Translated to CF-1.0 Conventions by Netcdf-Jav...\n",
       "    geospatial_lat_min:        -89.75\n",
       "    geospatial_lat_max:        89.75\n",
       "    geospatial_lon_min:        -179.75\n",
       "    geospatial_lon_max:        179.75"
      ]
     },
     "execution_count": 4,
     "metadata": {},
     "output_type": "execute_result"
    }
   ],
   "source": [
    "EEZ_ds"
   ]
  },
  {
   "cell_type": "code",
   "execution_count": null,
   "metadata": {},
   "outputs": [],
   "source": []
  }
 ],
 "metadata": {
  "kernelspec": {
   "display_name": "Python 3",
   "language": "python",
   "name": "python3"
  },
  "language_info": {
   "codemirror_mode": {
    "name": "ipython",
    "version": 3
   },
   "file_extension": ".py",
   "mimetype": "text/x-python",
   "name": "python",
   "nbconvert_exporter": "python",
   "pygments_lexer": "ipython3",
   "version": "3.7.2"
  }
 },
 "nbformat": 4,
 "nbformat_minor": 2
}
