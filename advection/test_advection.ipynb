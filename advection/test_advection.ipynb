{
 "cells": [
  {
   "cell_type": "code",
   "execution_count": 1,
   "metadata": {},
   "outputs": [
    {
     "name": "stdout",
     "output_type": "stream",
     "text": [
      "Stripy is not available on this machine.\n"
     ]
    }
   ],
   "source": [
    "# Imports\n",
    "import numpy as np\n",
    "\n",
    "from parcels import (grid, Field, FieldSet, ParticleSet, JITParticle, ScipyParticle, AdvectionRK4,\n",
    "                     ErrorCode, ParticleFile, Variable, plotTrajectoriesFile)\n",
    "\n",
    "from datetime import timedelta as delta\n",
    "from datetime import datetime\n",
    "\n",
    "import argparse\n",
    "from glob import glob\n",
    "import pickle\n",
    "import xarray as xr\n",
    "import os.path\n",
    "import warnings\n",
    "\n",
    "import sys\n",
    "sys.path.append('/science/users/4302001/arctic-connectivity/tools')\n",
    "sys.path.append('/Users/daanreijnders/surfdrive/Thesis/repo/tools')\n",
    "import fieldsetter_cmems\n",
    "import kernelCollection\n",
    "import community\n",
    "import advectParticles"
   ]
  },
  {
   "cell_type": "code",
   "execution_count": 2,
   "metadata": {},
   "outputs": [
    {
     "name": "stderr",
     "output_type": "stream",
     "text": [
      "WARNING: Casting depth data to np.float32\n",
      "WARNING: Casting time data to np.float64\n",
      "WARNING: Casting field data to np.float32\n"
     ]
    }
   ],
   "source": [
    "fieldset = fieldsetter_cmems.create(20010101, 3, antiBeach=True)"
   ]
  },
  {
   "cell_type": "code",
   "execution_count": 4,
   "metadata": {},
   "outputs": [
    {
     "data": {
      "text/plain": [
       "(420, 4320)"
      ]
     },
     "execution_count": 4,
     "metadata": {},
     "output_type": "execute_result"
    }
   ],
   "source": [
    "fieldset.U.data[0].shape"
   ]
  },
  {
   "cell_type": "code",
   "execution_count": 5,
   "metadata": {},
   "outputs": [
    {
     "data": {
      "text/plain": [
       "array([-180.     , -179.91667, -179.83333, ...,  179.75   ,  179.83333,\n",
       "        179.91667], dtype=float32)"
      ]
     },
     "execution_count": 5,
     "metadata": {},
     "output_type": "execute_result"
    }
   ],
   "source": [
    "fieldset.U.grid.lon"
   ]
  },
  {
   "cell_type": "code",
   "execution_count": 6,
   "metadata": {},
   "outputs": [
    {
     "name": "stderr",
     "output_type": "stream",
     "text": [
      "WARNING: The zonal halo is located at the east and west of current grid, with a dx = lon[1]-lon[0] between the last nodes of the original grid and the first ones of the halo. In your grid, lon[1]-lon[0] != lon[-1]-lon[-2]. Is the halo computed as you expect?\n"
     ]
    }
   ],
   "source": [
    "fieldset.add_periodic_halo(zonal=True)"
   ]
  },
  {
   "cell_type": "code",
   "execution_count": 7,
   "metadata": {},
   "outputs": [
    {
     "data": {
      "text/plain": [
       "array([-180.41667, -180.33333, -180.25   , ...,  180.16667,  180.25   ,\n",
       "        180.33333], dtype=float32)"
      ]
     },
     "execution_count": 7,
     "metadata": {},
     "output_type": "execute_result"
    }
   ],
   "source": [
    "fieldset.U.grid.lon"
   ]
  },
  {
   "cell_type": "code",
   "execution_count": 11,
   "metadata": {},
   "outputs": [
    {
     "data": {
      "text/plain": [
       "True"
      ]
     },
     "execution_count": 11,
     "metadata": {},
     "output_type": "execute_result"
    }
   ],
   "source": [
    "np.all(fieldset.U.data[0, :, 0:5] == fieldset.U.data[0, :, -10:-5])"
   ]
  },
  {
   "cell_type": "code",
   "execution_count": 13,
   "metadata": {},
   "outputs": [
    {
     "data": {
      "text/plain": [
       "array([-180.41667, -180.33333, -180.25   , ...,  180.16667,  180.25   ,\n",
       "        180.33333], dtype=float32)"
      ]
     },
     "execution_count": 13,
     "metadata": {},
     "output_type": "execute_result"
    }
   ],
   "source": [
    "fieldset.U_unbeach.grid.lon"
   ]
  },
  {
   "cell_type": "code",
   "execution_count": 14,
   "metadata": {},
   "outputs": [
    {
     "data": {
      "text/plain": [
       "array([55.      , 55.083332, 55.166668, 55.25    , 55.333332, 55.416668,\n",
       "       55.5     , 55.583332, 55.666668, 55.75    , 55.833332, 55.916668,\n",
       "       56.      , 56.083332, 56.166668, 56.25    , 56.333332, 56.416668,\n",
       "       56.5     , 56.583332, 56.666668, 56.75    , 56.833332, 56.916668,\n",
       "       57.      , 57.083332, 57.166668, 57.25    , 57.333332, 57.416668,\n",
       "       57.5     , 57.583332, 57.666668, 57.75    , 57.833332, 57.916668,\n",
       "       58.      , 58.083332, 58.166668, 58.25    , 58.333332, 58.416668,\n",
       "       58.5     , 58.583332, 58.666668, 58.75    , 58.833332, 58.916668,\n",
       "       59.      , 59.083332, 59.166668, 59.25    , 59.333332, 59.416668,\n",
       "       59.5     , 59.583332, 59.666668, 59.75    , 59.833332, 59.916668,\n",
       "       60.      , 60.083332, 60.166668, 60.25    , 60.333332, 60.416668,\n",
       "       60.5     , 60.583332, 60.666668, 60.75    , 60.833332, 60.916668,\n",
       "       61.      , 61.083332, 61.166668, 61.25    , 61.333332, 61.416668,\n",
       "       61.5     , 61.583332, 61.666668, 61.75    , 61.833332, 61.916668,\n",
       "       62.      , 62.083332, 62.166668, 62.25    , 62.333332, 62.416668,\n",
       "       62.5     , 62.583332, 62.666668, 62.75    , 62.833332, 62.916668,\n",
       "       63.      , 63.083332, 63.166668, 63.25    , 63.333332, 63.416668,\n",
       "       63.5     , 63.583332, 63.666668, 63.75    , 63.833332, 63.916668,\n",
       "       64.      , 64.083336, 64.166664, 64.25    , 64.333336, 64.416664,\n",
       "       64.5     , 64.583336, 64.666664, 64.75    , 64.833336, 64.916664,\n",
       "       65.      , 65.083336, 65.166664, 65.25    , 65.333336, 65.416664,\n",
       "       65.5     , 65.583336, 65.666664, 65.75    , 65.833336, 65.916664,\n",
       "       66.      , 66.083336, 66.166664, 66.25    , 66.333336, 66.416664,\n",
       "       66.5     , 66.583336, 66.666664, 66.75    , 66.833336, 66.916664,\n",
       "       67.      , 67.083336, 67.166664, 67.25    , 67.333336, 67.416664,\n",
       "       67.5     , 67.583336, 67.666664, 67.75    , 67.833336, 67.916664,\n",
       "       68.      , 68.083336, 68.166664, 68.25    , 68.333336, 68.416664,\n",
       "       68.5     , 68.583336, 68.666664, 68.75    , 68.833336, 68.916664,\n",
       "       69.      , 69.083336, 69.166664, 69.25    , 69.333336, 69.416664,\n",
       "       69.5     , 69.583336, 69.666664, 69.75    , 69.833336, 69.916664,\n",
       "       70.      , 70.083336, 70.166664, 70.25    , 70.333336, 70.416664,\n",
       "       70.5     , 70.583336, 70.666664, 70.75    , 70.833336, 70.916664,\n",
       "       71.      , 71.083336, 71.166664, 71.25    , 71.333336, 71.416664,\n",
       "       71.5     , 71.583336, 71.666664, 71.75    , 71.833336, 71.916664,\n",
       "       72.      , 72.083336, 72.166664, 72.25    , 72.333336, 72.416664,\n",
       "       72.5     , 72.583336, 72.666664, 72.75    , 72.833336, 72.916664,\n",
       "       73.      , 73.083336, 73.166664, 73.25    , 73.333336, 73.416664,\n",
       "       73.5     , 73.583336, 73.666664, 73.75    , 73.833336, 73.916664,\n",
       "       74.      , 74.083336, 74.166664, 74.25    , 74.333336, 74.416664,\n",
       "       74.5     , 74.583336, 74.666664, 74.75    , 74.833336, 74.916664,\n",
       "       75.      , 75.083336, 75.166664, 75.25    , 75.333336, 75.416664,\n",
       "       75.5     , 75.583336, 75.666664, 75.75    , 75.833336, 75.916664,\n",
       "       76.      , 76.083336, 76.166664, 76.25    , 76.333336, 76.416664,\n",
       "       76.5     , 76.583336, 76.666664, 76.75    , 76.833336, 76.916664,\n",
       "       77.      , 77.083336, 77.166664, 77.25    , 77.333336, 77.416664,\n",
       "       77.5     , 77.583336, 77.666664, 77.75    , 77.833336, 77.916664,\n",
       "       78.      , 78.083336, 78.166664, 78.25    , 78.333336, 78.416664,\n",
       "       78.5     , 78.583336, 78.666664, 78.75    , 78.833336, 78.916664,\n",
       "       79.      , 79.083336, 79.166664, 79.25    , 79.333336, 79.416664,\n",
       "       79.5     , 79.583336, 79.666664, 79.75    , 79.833336, 79.916664,\n",
       "       80.      , 80.083336, 80.166664, 80.25    , 80.333336, 80.416664,\n",
       "       80.5     , 80.583336, 80.666664, 80.75    , 80.833336, 80.916664,\n",
       "       81.      , 81.083336, 81.166664, 81.25    , 81.333336, 81.416664,\n",
       "       81.5     , 81.583336, 81.666664, 81.75    , 81.833336, 81.916664,\n",
       "       82.      , 82.083336, 82.166664, 82.25    , 82.333336, 82.416664,\n",
       "       82.5     , 82.583336, 82.666664, 82.75    , 82.833336, 82.916664,\n",
       "       83.      , 83.083336, 83.166664, 83.25    , 83.333336, 83.416664,\n",
       "       83.5     , 83.583336, 83.666664, 83.75    , 83.833336, 83.916664,\n",
       "       84.      , 84.083336, 84.166664, 84.25    , 84.333336, 84.416664,\n",
       "       84.5     , 84.583336, 84.666664, 84.75    , 84.833336, 84.916664,\n",
       "       85.      , 85.083336, 85.166664, 85.25    , 85.333336, 85.416664,\n",
       "       85.5     , 85.583336, 85.666664, 85.75    , 85.833336, 85.916664,\n",
       "       86.      , 86.083336, 86.166664, 86.25    , 86.333336, 86.416664,\n",
       "       86.5     , 86.583336, 86.666664, 86.75    , 86.833336, 86.916664,\n",
       "       87.      , 87.083336, 87.166664, 87.25    , 87.333336, 87.416664,\n",
       "       87.5     , 87.583336, 87.666664, 87.75    , 87.833336, 87.916664,\n",
       "       88.      , 88.083336, 88.166664, 88.25    , 88.333336, 88.416664,\n",
       "       88.5     , 88.583336, 88.666664, 88.75    , 88.833336, 88.916664,\n",
       "       89.      , 89.083336, 89.166664, 89.25    , 89.333336, 89.416664,\n",
       "       89.5     , 89.583336, 89.666664, 89.75    , 89.833336, 89.916664],\n",
       "      dtype=float32)"
      ]
     },
     "execution_count": 14,
     "metadata": {},
     "output_type": "execute_result"
    }
   ],
   "source": [
    "fieldset.U.grid.lat"
   ]
  },
  {
   "cell_type": "code",
   "execution_count": null,
   "metadata": {},
   "outputs": [],
   "source": []
  }
 ],
 "metadata": {
  "kernelspec": {
   "display_name": "Python 3",
   "language": "python",
   "name": "python3"
  },
  "language_info": {
   "codemirror_mode": {
    "name": "ipython",
    "version": 3
   },
   "file_extension": ".py",
   "mimetype": "text/x-python",
   "name": "python",
   "nbconvert_exporter": "python",
   "pygments_lexer": "ipython3",
   "version": "3.7.3"
  }
 },
 "nbformat": 4,
 "nbformat_minor": 4
}
