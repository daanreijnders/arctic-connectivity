{
 "cells": [
  {
   "cell_type": "markdown",
   "metadata": {},
   "source": [
    "6 September 2019: This notebook serves to investigate the influence of different timesteps, $\\Delta t$, in the advection step. The default step used in most particle runs so far is 5 seconds. One run, ``control_y300_P3590x590_S2000-1-1_D90_DT60_ODT12_LAT60.5-89.5_LON-179.5-179.5`` has a time step of 60 seconds. The particle set of this run can be compared to ``pset_control_y300_P3590x590_S2000-1-1_D30_DT5_ODT12_LAT60.5-89.5_LON-179.5-179.5``, since all settings, except for the _runtime_ and $\\Delta t$ are equal."
   ]
  },
  {
   "cell_type": "code",
   "execution_count": 1,
   "metadata": {},
   "outputs": [],
   "source": [
    "import numpy as np\n",
    "import matplotlib.pyplot as plt\n",
    "import xarray as xr"
   ]
  },
  {
   "cell_type": "code",
   "execution_count": 2,
   "metadata": {},
   "outputs": [],
   "source": [
    "pset_path = '/data/oceanparcels/output_data/data_Daan/'"
   ]
  },
  {
   "cell_type": "code",
   "execution_count": 3,
   "metadata": {},
   "outputs": [],
   "source": [
    "ds_dt60 = xr.open_dataset(pset_path+'pset_control_y300_P3590x590_S2000-1-1_D90_DT60_ODT12_LAT60.5-89.5_LON-179.5-179.5.nc')\n",
    "ds_dt5 = xr.open_dataset(pset_path+'pset_control_y300_P3590x590_S2000-1-1_D30_DT5_ODT12_LAT60.5-89.5_LON-179.5-179.5.nc')"
   ]
  },
  {
   "cell_type": "code",
   "execution_count": 4,
   "metadata": {},
   "outputs": [
    {
     "name": "stdout",
     "output_type": "stream",
     "text": [
      "Technical data\n",
      "--------------\n",
      "-----dt60-----\n",
      "<xarray.Dataset>\n",
      "Dimensions:     (obs: 181, traj: 2118100)\n",
      "Dimensions without coordinates: obs, traj\n",
      "Data variables:\n",
      "    trajectory  (traj, obs) int32 ...\n",
      "    time        (traj, obs) datetime64[ns] ...\n",
      "    lat         (traj, obs) float32 ...\n",
      "    lon         (traj, obs) float32 ...\n",
      "    z           (traj, obs) float32 ...\n",
      "Attributes:\n",
      "    feature_type:           trajectory\n",
      "    Conventions:            CF-1.6/CF-1.7\n",
      "    ncei_template_version:  NCEI_NetCDF_Trajectory_Template_v2.0\n",
      "    parcels_version:        2.0.0b3.dev93+g5cdb2e5\n",
      "    parcels_mesh:           spherical\n",
      "-----dt5------\n",
      "<xarray.Dataset>\n",
      "Dimensions:     (obs: 61, traj: 2118100)\n",
      "Dimensions without coordinates: obs, traj\n",
      "Data variables:\n",
      "    trajectory  (traj, obs) int32 ...\n",
      "    time        (traj, obs) datetime64[ns] ...\n",
      "    lat         (traj, obs) float32 ...\n",
      "    lon         (traj, obs) float32 ...\n",
      "    z           (traj, obs) float32 ...\n",
      "Attributes:\n",
      "    feature_type:           trajectory\n",
      "    Conventions:            CF-1.6/CF-1.7\n",
      "    ncei_template_version:  NCEI_NetCDF_Trajectory_Template_v2.0\n",
      "    parcels_version:        2.0.0b3.dev93+g5cdb2e5\n",
      "    parcels_mesh:           spherical\n"
     ]
    }
   ],
   "source": [
    "print('Technical data')\n",
    "print('--------------')\n",
    "print('-----dt60-----')\n",
    "print(ds_dt60)\n",
    "print('-----dt5------')\n",
    "print(ds_dt5)"
   ]
  },
  {
   "cell_type": "markdown",
   "metadata": {},
   "source": [
    "# Indices"
   ]
  },
  {
   "cell_type": "markdown",
   "metadata": {},
   "source": [
    "``ds_dt60`` covers a time span of 90 days:"
   ]
  },
  {
   "cell_type": "code",
   "execution_count": 5,
   "metadata": {},
   "outputs": [
    {
     "data": {
      "text/plain": [
       "numpy.datetime64('2000-03-31T00:00:00.000000000')"
      ]
     },
     "execution_count": 5,
     "metadata": {},
     "output_type": "execute_result"
    }
   ],
   "source": [
    "ds_dt60.time[0,-1].values"
   ]
  },
  {
   "cell_type": "markdown",
   "metadata": {},
   "source": [
    "``ds_dt5`` only covers a time span of 30 days:"
   ]
  },
  {
   "cell_type": "code",
   "execution_count": 6,
   "metadata": {},
   "outputs": [
    {
     "data": {
      "text/plain": [
       "numpy.datetime64('2000-01-31T00:00:00.000000000')"
      ]
     },
     "execution_count": 6,
     "metadata": {},
     "output_type": "execute_result"
    }
   ],
   "source": [
    "ds_dt5.time[0,-1].values"
   ]
  },
  {
   "cell_type": "markdown",
   "metadata": {},
   "source": [
    "This means we have to be careful with choosing the correct value in ``ds_dt60`` so we match up our data with ``ds_dt5``. The correct index is ``60``:"
   ]
  },
  {
   "cell_type": "code",
   "execution_count": 7,
   "metadata": {},
   "outputs": [
    {
     "data": {
      "text/plain": [
       "numpy.datetime64('2000-01-31T00:00:00.000000000')"
      ]
     },
     "execution_count": 7,
     "metadata": {},
     "output_type": "execute_result"
    }
   ],
   "source": [
    "ds_dt60.time[0,60].values"
   ]
  },
  {
   "cell_type": "markdown",
   "metadata": {},
   "source": [
    "# Position comparison\n",
    "Since both simulations stem from the same original particle grid, we can readily compare the final positions of the particles. This can for example be done for particles released along a certain longitude band/meridian. We investigate $0^\\circ$, since the prime meridian coincides with the Fram Straight, and should thus consist of particles in water (as opposed to the trivial case of particles on land).\n",
    "\n",
    "Note: these simulations were carried out with initial particle grids where particles on land were not yet removed."
   ]
  },
  {
   "cell_type": "markdown",
   "metadata": {},
   "source": [
    "## Trajectory index\n",
    "The initial lat-lon positions are simply stored in sequential order, first going from 179.5W to 179.5E, then going from 60.5N to 89.5N. Therefore, we have to be mindful that when we want to select a meridian, we have to select each 3590th element in our array. ``1795::3590`` selects the prime meridian:"
   ]
  },
  {
   "cell_type": "code",
   "execution_count": 8,
   "metadata": {},
   "outputs": [
    {
     "data": {
      "text/plain": [
       "<xarray.DataArray 'lon' (traj: 590)>\n",
       "array([0.050014, 0.050014, 0.050014, ..., 0.050014, 0.050014, 0.050014],\n",
       "      dtype=float32)\n",
       "Dimensions without coordinates: traj\n",
       "Attributes:\n",
       "    long_name:      \n",
       "    standard_name:  longitude\n",
       "    units:          degrees_east\n",
       "    axis:           X"
      ]
     },
     "execution_count": 8,
     "metadata": {},
     "output_type": "execute_result"
    }
   ],
   "source": [
    "ds_dt60.lon[1795::3590,0]"
   ]
  },
  {
   "cell_type": "code",
   "execution_count": 9,
   "metadata": {},
   "outputs": [
    {
     "data": {
      "text/plain": [
       "<xarray.DataArray 'lon' (traj: 590)>\n",
       "array([0.050014, 0.050014, 0.050014, ..., 0.050014, 0.050014, 0.050014],\n",
       "      dtype=float32)\n",
       "Dimensions without coordinates: traj\n",
       "Attributes:\n",
       "    long_name:      \n",
       "    standard_name:  longitude\n",
       "    units:          degrees_east\n",
       "    axis:           X"
      ]
     },
     "execution_count": 9,
     "metadata": {},
     "output_type": "execute_result"
    }
   ],
   "source": [
    "ds_dt5.lon[1795::3590,0]"
   ]
  },
  {
   "cell_type": "code",
   "execution_count": 10,
   "metadata": {},
   "outputs": [
    {
     "data": {
      "text/plain": [
       "<xarray.DataArray 'lat' (traj: 590)>\n",
       "array([60.5     , 60.549236, 60.598473, ..., 89.40153 , 89.45077 , 89.5     ],\n",
       "      dtype=float32)\n",
       "Dimensions without coordinates: traj\n",
       "Attributes:\n",
       "    long_name:      \n",
       "    standard_name:  latitude\n",
       "    units:          degrees_north\n",
       "    axis:           Y"
      ]
     },
     "execution_count": 10,
     "metadata": {},
     "output_type": "execute_result"
    }
   ],
   "source": [
    "ds_dt60.lat[1795::3590,0]"
   ]
  },
  {
   "cell_type": "code",
   "execution_count": 11,
   "metadata": {},
   "outputs": [
    {
     "data": {
      "text/plain": [
       "<xarray.DataArray 'lat' (traj: 590)>\n",
       "array([60.5     , 60.549236, 60.598473, ..., 89.40153 , 89.45077 , 89.5     ],\n",
       "      dtype=float32)\n",
       "Dimensions without coordinates: traj\n",
       "Attributes:\n",
       "    long_name:      \n",
       "    standard_name:  latitude\n",
       "    units:          degrees_north\n",
       "    axis:           Y"
      ]
     },
     "execution_count": 11,
     "metadata": {},
     "output_type": "execute_result"
    }
   ],
   "source": [
    "ds_dt5.lat[1795::3590,0]"
   ]
  },
  {
   "cell_type": "markdown",
   "metadata": {},
   "source": [
    "## Distances shifted\n",
    "We can now simply take the euclidian difference between each final location. Note that we use index ``60`` for ``ds_dt60``. First we have to define a function to compute distances using the Haversine formula<sup>[1]</sup>.\n",
    "\n",
    "[1]: https://medium.com/@petehouston/calculate-distance-of-two-locations-on-earth-using-python-1501b1944d97"
   ]
  },
  {
   "cell_type": "code",
   "execution_count": 76,
   "metadata": {},
   "outputs": [],
   "source": [
    "def haversine(lon1, lat1, lon2, lat2):\n",
    "    \"\"\"\n",
    "    Calculate the great circle distance between two points \n",
    "    on the earth (specified in decimal degrees)\n",
    "    \"\"\"\n",
    "    # convert decimal degrees to radians \n",
    "    lon1, lat1, lon2, lat2 = map(np.radians, [lon1, lat1, lon2, lat2])\n",
    "\n",
    "    # haversine formula \n",
    "    dlon = lon2 - lon1 \n",
    "    dlat = lat2 - lat1 \n",
    "    a = np.sin(dlat/2)**2 + np.cos(lat1) * np.cos(lat2) * np.sin(dlon/2)**2\n",
    "    c = 2 * np.arcsin(np.sqrt(a)) \n",
    "    r = 6371 # Radius of earth in kilometers. Use 3956 for miles\n",
    "    return c * r"
   ]
  },
  {
   "cell_type": "markdown",
   "metadata": {},
   "source": [
    "The rest is straightforward:"
   ]
  },
  {
   "cell_type": "code",
   "execution_count": 87,
   "metadata": {},
   "outputs": [],
   "source": [
    "merid_dist_diff = haversine(ds_dt5.lon[1795::3590,-1],\\\n",
    "                            ds_dt5.lat[1795::3590,-1],\\\n",
    "                            ds_dt60.lon[1795::3590,60],\\\n",
    "                            ds_dt60.lat[1795::3590,60])"
   ]
  },
  {
   "cell_type": "code",
   "execution_count": 88,
   "metadata": {},
   "outputs": [
    {
     "data": {
      "text/plain": [
       "[<matplotlib.lines.Line2D at 0x7ff52315fdd8>]"
      ]
     },
     "execution_count": 88,
     "metadata": {},
     "output_type": "execute_result"
    },
    {
     "data": {
      "image/png": "[encoded data removed]",
      "text/plain": [
       "<Figure size 432x288 with 1 Axes>"
      ]
     },
     "metadata": {
      "needs_background": "light"
     },
     "output_type": "display_data"
    }
   ],
   "source": [
    "merid_dist_diff.plot()"
   ]
  },
  {
   "cell_type": "code",
   "execution_count": 92,
   "metadata": {},
   "outputs": [
    {
     "data": {
      "text/plain": [
       "<xarray.DataArray ()>\n",
       "array(0.162516, dtype=float32)"
      ]
     },
     "execution_count": 92,
     "metadata": {},
     "output_type": "execute_result"
    }
   ],
   "source": [
    "merid_dist_diff.mean()"
   ]
  },
  {
   "cell_type": "code",
   "execution_count": 91,
   "metadata": {},
   "outputs": [
    {
     "data": {
      "text/plain": [
       "<xarray.DataArray ()>\n",
       "array(0.005417)"
      ]
     },
     "execution_count": 91,
     "metadata": {},
     "output_type": "execute_result"
    }
   ],
   "source": [
    "merid_dist_diff.mean()/30"
   ]
  },
  {
   "cell_type": "markdown",
   "metadata": {},
   "source": [
    "The mean difference is distance is rather small. Here we see that the largest differences only span around 14 kilometers, but the average is only 162 meters (over the coure of 30 days), meaning a drift of 5 meters a day."
   ]
  },
  {
   "cell_type": "markdown",
   "metadata": {},
   "source": [
    "# Spatial plot"
   ]
  },
  {
   "cell_type": "code",
   "execution_count": 16,
   "metadata": {},
   "outputs": [],
   "source": [
    "lon_5 = ds_dt5.lon[1795::3590,-1]\n",
    "lat_5 = ds_dt5.lat[1795::3590,-1]\n",
    "lon_60 = ds_dt60.lon[1795::3590,60]\n",
    "lat_60 = ds_dt60.lat[1795::3590,60]"
   ]
  },
  {
   "cell_type": "code",
   "execution_count": 72,
   "metadata": {},
   "outputs": [
    {
     "data": {
      "image/png": "[encoded data removed]",
      "text/plain": [
       "<Figure size 432x288 with 1 Axes>"
      ]
     },
     "metadata": {
      "needs_background": "light"
     },
     "output_type": "display_data"
    }
   ],
   "source": [
    "import cartopy as cart\n",
    "import cartopy.crs as ccrs\n",
    "from cartopy.mpl.gridliner import LONGITUDE_FORMATTER, LATITUDE_FORMATTER\n",
    "\n",
    "fig     = plt.figure()\n",
    "ax      = plt.axes(projection=ccrs.PlateCarree())\n",
    "ax.set_extent((-40,20,50,90), crs=ccrs.PlateCarree())\n",
    "ax.coastlines()\n",
    "ax.add_feature(cart.feature.LAND, zorder=5, edgecolor='k')\n",
    "gl = ax.gridlines(crs=ccrs.PlateCarree(), linestyle='--', draw_labels = True)\n",
    "gl.xlabels_top   = False\n",
    "gl.ylabels_right = False\n",
    "gl.xformatter    = LONGITUDE_FORMATTER\n",
    "gl.yformatter    = LATITUDE_FORMATTER\n",
    "ax.scatter(lon_5, lat_5, s=0.3, c='blue', transform=ccrs.PlateCarree())\n",
    "ax.scatter(lon_60, lat_60, s=0.3, c='red', transform=ccrs.PlateCarree())\n",
    "plt.show()"
   ]
  },
  {
   "cell_type": "markdown",
   "metadata": {},
   "source": [
    "Here the spread between particle locations does not seem that large. Let's look at individual distances between trajectories:"
   ]
  },
  {
   "cell_type": "code",
   "execution_count": 73,
   "metadata": {},
   "outputs": [
    {
     "data": {
      "image/png": "[encoded data removed]",
      "text/plain": [
       "<Figure size 432x288 with 1 Axes>"
      ]
     },
     "metadata": {
      "needs_background": "light"
     },
     "output_type": "display_data"
    }
   ],
   "source": [
    "import cartopy as cart\n",
    "import cartopy.crs as ccrs\n",
    "from matplotlib import collections  as mc\n",
    "from cartopy.mpl.gridliner import LONGITUDE_FORMATTER, LATITUDE_FORMATTER\n",
    "\n",
    "fig     = plt.figure()\n",
    "ax      = plt.axes(projection=ccrs.PlateCarree())\n",
    "ax.set_extent((-40,20,50,90), crs=ccrs.PlateCarree())\n",
    "ax.coastlines()\n",
    "ax.add_feature(cart.feature.LAND, zorder=5, edgecolor='k')\n",
    "gl = ax.gridlines(crs=ccrs.PlateCarree(), linestyle='--', draw_labels = True)\n",
    "gl.xlabels_top   = False\n",
    "gl.ylabels_right = False\n",
    "gl.xformatter    = LONGITUDE_FORMATTER\n",
    "gl.yformatter    = LATITUDE_FORMATTER\n",
    "\n",
    "init_coords = np.dstack((lon_5, lat_5))\n",
    "final_coords = np.dstack((lon_60, lat_60))\n",
    "# Lines drawn from locations from dt5-run to locations from dt60-run.\n",
    "lines = np.dstack((init_coords, final_coords)).flatten().reshape(len(lon_5),2,2)\n",
    "lc = mc.LineCollection(lines, linewidths=2)\n",
    "ax.add_collection(lc)\n",
    "plt.show()"
   ]
  },
  {
   "cell_type": "markdown",
   "metadata": {},
   "source": [
    "Above are lines drawn from locations from dt5-run to locations from dt60-run. These lines are nearly invisible, indicating that the shifted distances are very small."
   ]
  },
  {
   "cell_type": "markdown",
   "metadata": {},
   "source": [
    "# Full comparison"
   ]
  },
  {
   "cell_type": "markdown",
   "metadata": {},
   "source": [
    "Let's compare positions for the full data set:"
   ]
  },
  {
   "cell_type": "code",
   "execution_count": 100,
   "metadata": {},
   "outputs": [],
   "source": [
    "import seaborn as sns"
   ]
  },
  {
   "cell_type": "code",
   "execution_count": 93,
   "metadata": {},
   "outputs": [],
   "source": [
    "full_dist_diff = haversine(ds_dt5.lon[:,-1],\\\n",
    "                            ds_dt5.lat[:,-1],\\\n",
    "                            ds_dt60.lon[:,60],\\\n",
    "                            ds_dt60.lat[:,60])"
   ]
  },
  {
   "cell_type": "code",
   "execution_count": 106,
   "metadata": {},
   "outputs": [
    {
     "name": "stdout",
     "output_type": "stream",
     "text": [
      "Standard deviation: <xarray.DataArray ()>\n",
      "array(4.523793, dtype=float32)\n",
      "Mean: <xarray.DataArray ()>\n",
      "array(0.710348, dtype=float32)\n",
      "Max: <xarray.DataArray ()>\n",
      "array(577.5872, dtype=float32)\n"
     ]
    }
   ],
   "source": [
    "print(\"Standard deviation:\", full_dist_diff.std())\n",
    "print(\"Mean:\", full_dist_diff.mean())\n",
    "print(\"Max:\", full_dist_diff.max())"
   ]
  },
  {
   "cell_type": "code",
   "execution_count": 104,
   "metadata": {},
   "outputs": [
    {
     "data": {
      "text/plain": [
       "<matplotlib.axes._subplots.AxesSubplot at 0x7ff5200acfd0>"
      ]
     },
     "execution_count": 104,
     "metadata": {},
     "output_type": "execute_result"
    },
    {
     "data": {
      "image/png": "[encoded data removed]",
      "text/plain": [
       "<Figure size 432x288 with 1 Axes>"
      ]
     },
     "metadata": {
      "needs_background": "light"
     },
     "output_type": "display_data"
    }
   ],
   "source": [
    "sns.distplot(full_dist_diff[~np.isnan(full_dist_diff)])"
   ]
  },
  {
   "cell_type": "code",
   "execution_count": null,
   "metadata": {},
   "outputs": [],
   "source": []
  }
 ],
 "metadata": {
  "kernelspec": {
   "display_name": "Python 3",
   "language": "python",
   "name": "python3"
  },
  "language_info": {
   "codemirror_mode": {
    "name": "ipython",
    "version": 3
   },
   "file_extension": ".py",
   "mimetype": "text/x-python",
   "name": "python",
   "nbconvert_exporter": "python",
   "pygments_lexer": "ipython3",
   "version": "3.7.1"
  }
 },
 "nbformat": 4,
 "nbformat_minor": 2
}
