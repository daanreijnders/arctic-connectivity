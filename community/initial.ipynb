{
 "cells": [
  {
   "cell_type": "code",
   "execution_count": 45,
   "metadata": {},
   "outputs": [],
   "source": [
    "%matplotlib inline\n",
    "%config InlineBackend.figure_format = 'retina'\n",
    "\n",
    "import numpy as np\n",
    "import xarray as xr\n",
    "\n",
    "import matplotlib.pyplot as plt\n",
    "import cartopy as cart\n",
    "\n",
    "from datetime import timedelta as delta\n",
    "from datetime import datetime\n",
    "\n",
    "from parcels import (grid, Field, FieldSet, ParticleSet, JITParticle, ScipyParticle, AdvectionRK4,\n",
    "                     ErrorCode, ParticleFile, Variable, plotTrajectoriesFile)\n",
    "\n",
    "from importlib import reload\n",
    "import sys\n",
    "sys.path.append('/home/students/4302001/arctic-connectivity/tools')\n",
    "sys.path.append('/Users/daanreijnders/surfdrive/Thesis/repo/tools')\n",
    "import plot\n",
    "import lifeline"
   ]
  },
  {
   "cell_type": "code",
   "execution_count": 68,
   "metadata": {},
   "outputs": [
    {
     "data": {
      "text/plain": [
       "<module 'lifeline' from '/Users/daanreijnders/surfdrive/Thesis/repo/tools/lifeline.py'>"
      ]
     },
     "execution_count": 68,
     "metadata": {},
     "output_type": "execute_result"
    }
   ],
   "source": [
    "reload(plot)\n",
    "reload(lifeline)"
   ]
  },
  {
   "cell_type": "code",
   "execution_count": 47,
   "metadata": {},
   "outputs": [],
   "source": [
    "# Specify paths to velocity field and mesh\n",
    "readdir_ocean = '/Users/daanreijnders/Datasets/'\n",
    "readdir_ice = '/Users/daanreijnders/Datasets/'\n",
    "readdir_mesh = '/Users/daanreijnders/Datasets/'\n",
    "\n",
    "# readdir_ice = '/data/oceanparcels/input_data/CESM/0.1_deg/control/ice/arctic/'\n",
    "# readdir_ocean = '/data/oceanparcels/input_data/CESM/0.1_deg/control/ocean/arctic/'\n",
    "# readdir_mesh = '/scratch/DaanR/fields/'\n",
    "\n",
    "fieldfile_ocean = 'daily_CESM_0.1degree_controlrun_year_300_arctic_region_timed.nc'\n",
    "fieldfile_ice = 'monthly_icefields_CESM_0.1degree_controlrun_year_300_arctic.nc'\n",
    "meshfile = 'POP_grid_coordinates.nc'\n",
    "\n",
    "writedir = ''"
   ]
  },
  {
   "cell_type": "code",
   "execution_count": 48,
   "metadata": {},
   "outputs": [],
   "source": [
    "def read_velocity_field(fieldfiles, meshfile=None):\n",
    "    if not meshfile:\n",
    "        meshfile = fieldfiles\n",
    "    filenames = {'U': {'lon': meshfile,\n",
    "                       'lat': meshfile,\n",
    "                       'data':fieldfiles},\n",
    "                 'V': {'lon': meshfile,\n",
    "                       'lat': meshfile,\n",
    "                       'data':fieldfiles}}\n",
    "\n",
    "    variables = {'U': 'UVEL_5m',\n",
    "                 'V': 'VVEL_5m'}\n",
    "\n",
    "    dimensions = {'U': {'time': 'time',\n",
    "                        'lat': 'ULAT',\n",
    "                        'lon': 'ULON'},\n",
    "                  'V': {'time': 'time',\n",
    "                        'lat': 'ULAT',\n",
    "                        'lon': 'ULON'}}\n",
    "    fieldset = FieldSet.from_pop(filenames, variables, dimensions, allow_time_extrapolation=False)\n",
    "    fieldset.U.vmax = 10;  fieldset.U.vmin = -10;  # set max of flow to 10 m/s\n",
    "    fieldset.V.vmax = 10; fieldset.V.vmin = -10;\n",
    "    return fieldset\n",
    "\n",
    "\n",
    "# def add_ice_fields(fieldset, fieldfile, iceVars=['aice', 'hisnap', 'hi'], meshfile=None):\n",
    "#     \"\"\"Not working for now\"\"\"\n",
    "#     if not meshfile:\n",
    "#         meshfile = fieldfiles\n",
    "#     for varName in iceVars:\n",
    "#         filenames = {'lon': [meshfile],\n",
    "#                      'lat': [meshfile],\n",
    "#                      'data': [fieldfile]}\n",
    "#         variable = (varName, varName)\n",
    "#         dimensions = {'time': 'time',\n",
    "#                       'lat': 'TLAT',\n",
    "#                       'lon': 'TLON'}\n",
    "#         field = Field.from_netcdf(filenames, variable, dimensions, allow_time_extrapolation=False)\n",
    "#         fieldset.add_field(field)"
   ]
  },
  {
   "cell_type": "code",
   "execution_count": 49,
   "metadata": {},
   "outputs": [],
   "source": [
    "fieldset = read_velocity_field(readdir_ocean+fieldfile_ocean, meshfile=readdir_mesh+meshfile)  "
   ]
  },
  {
   "cell_type": "code",
   "execution_count": 50,
   "metadata": {},
   "outputs": [],
   "source": [
    "#add_ice_fields(fieldset, readdir_ice+fieldfile_ice, meshfile=readdir_mesh+meshfile)"
   ]
  },
  {
   "cell_type": "code",
   "execution_count": 90,
   "metadata": {},
   "outputs": [],
   "source": [
    "class myGrid:\n",
    "    def __init__(self, nlon, nlat, minLat=60., maxLat=90., minLon=-180, maxLon=180):\n",
    "        self.nlat = nlat\n",
    "        self.nlon = nlon\n",
    "        self.dlat = (maxLat - minLat)/nlat\n",
    "        self.dlon = 360/nlon\n",
    "        \n",
    "class countGrid(myGrid):\n",
    "    def __init__(self, nlon, nlat, minLat=60., maxLat=90., minLon=-180, maxLon=180):\n",
    "        myGrid.__init__(self, nlon, nlat, minLat, maxLat, minLon, maxLon)\n",
    "        \n",
    "        self.latOffset = self.dlat/2\n",
    "        self.lonOffset = self.dlon/2\n",
    "        self.latBounds = np.linspace(minLat, maxLat, nlat+1)\n",
    "        self.lonBounds = np.linspace(minLon, maxLon, nlon+1)\n",
    "        latarr = np.linspace(minLat+self.latOffset, maxLat-self.latOffset, nlat) # center\n",
    "        lonarr = np.linspace(minLon+self.lonOffset, maxLon-self.lonOffset, nlon) # center\n",
    "        self.lons, self.lats = np.meshgrid(lonarr, latarr)\n",
    "        self.lonIdx, self.latIdx = np.meshgrid(np.arange(self.nlon), np.arange(self.nlat))\n",
    "        \n",
    "    def countInit(self, particleGrid):\n",
    "        self.initCount = np.histogram2d(particleGrid.lonlat[:,0], particleGrid.lonlat[:,1], bins=[self.lonBounds, self.latBounds])\n",
    "    \n",
    "    def transMat(self):\n",
    "        pass\n",
    "    \n",
    "class particleGrid(myGrid):\n",
    "    def __init__(self, nlon, nlat, release_time, minLat=60.5, maxLat=89.5, minLon=-179.5, maxLon=179.5):\n",
    "        myGrid.__init__(self, nlon, nlat, minLat, maxLat, minLon, maxLon)\n",
    "        self.advected = False\n",
    "        if release_time:\n",
    "                self.release_time = release_time\n",
    "        # Create mesh\n",
    "        self.latarr = np.linspace(minLat, maxLat, nlat) # particle position\n",
    "        self.lonarr = np.linspace(minLon, maxLon, nlon) # particle position\n",
    "        self.lons, self.lats = np.meshgrid(self.lonarr, self.latarr)\n",
    "        \n",
    "        # Create pairs and flatten using a reshape\n",
    "        self.lonlat_3d = np.dstack((self.lons, self.lats))\n",
    "        self.initialParticleCount = self.countParticles()\n",
    "        self.lonlat = np.reshape(self.lonlat_3d, (self.particleCount, 2))\n",
    "        \n",
    "        # Create labels\n",
    "        self.lonlat_labels = np.arange(self.particleCount)\n",
    "        \n",
    "    def countParticles(self):\n",
    "        if not hasattr(self, 'lonlat') and self.advected == False:\n",
    "            self.particleCount = self.lonlat_3d.shape[0]*self.lonlat_3d.shape[1]\n",
    "        else:\n",
    "            self.particleCount = self.lonlat[~np.isnan(self.lonlat)].shape[0]\n",
    "        return self.particleCount\n",
    "            \n",
    "    def getBindex(self, countGrid):\n",
    "        self.bindex = np.dstack((np.searchsorted(countGrid.lonBounds, self.lonlat[:,0]), np.searchsorted(countGrid.latBounds, self.lonlat[:,1])))\n",
    "        return self.bindex\n",
    "# Counter does not actually track positions"
   ]
  },
  {
   "cell_type": "code",
   "execution_count": 75,
   "metadata": {},
   "outputs": [],
   "source": [
    "def wrapLon(particle, fieldset, time):\n",
    "    if particle.lon > 180.:\n",
    "        particle.lon = particle.lon - 360.\n",
    "    if particle.lon < -180.:\n",
    "        particle.lon = particle.lon + 360.\n",
    "\n",
    "def deleteParticle(particle, fieldset, time):\n",
    "    particle.delete()"
   ]
  },
  {
   "cell_type": "code",
   "execution_count": 76,
   "metadata": {},
   "outputs": [],
   "source": [
    "# Particle execution function\n",
    "def gridAdvection(fieldset, \\\n",
    "                  countGrid, \\\n",
    "                  particleGrid, \\\n",
    "                  experiment_name='', \\\n",
    "                  runtime=delta(days=30), \\\n",
    "                  dt = delta(minutes=5), \\\n",
    "                  outputdt = delta(hours = 12)):\n",
    "    pset = ParticleSet.from_list(fieldset, JITParticle, particles.lonlat[:,0], particles.lonlat[:,1])\n",
    "    kernels = pset.Kernel(AdvectionRK4) + pset.Kernel(wrapLon)\n",
    "    pfile = pset.ParticleFile(name = writedir+\"pset_\"+experiment_name, outputdt=outputdt)\n",
    "    print(f\"Run: Advecting particles for {runtime}\")\n",
    "    pset.execute(kernels, \\\n",
    "                 runtime = runtime, \\\n",
    "                 dt = dt, \\\n",
    "                 output_file = pfile, \\\n",
    "                 recovery = {ErrorCode.ErrorOutOfBounds: deleteParticle})\n",
    "    return pset"
   ]
  },
  {
   "cell_type": "code",
   "execution_count": 77,
   "metadata": {},
   "outputs": [],
   "source": [
    "countG = countGrid(60, 30)\n",
    "particleG = particleGrid(119, 59, 0)"
   ]
  },
  {
   "cell_type": "code",
   "execution_count": 81,
   "metadata": {},
   "outputs": [
    {
     "name": "stdout",
     "output_type": "stream",
     "text": [
      "Run: Advecting particles for 30 days, 0:00:00\n"
     ]
    },
    {
     "name": "stderr",
     "output_type": "stream",
     "text": [
      "INFO: Compiled JITParticleAdvectionRK4wrapLon ==> /var/folders/k_/m82s7xk97dlgd2rcy0bn6v100000gn/T/parcels-501/908de6ee054261da57a7d181c654c998.so\n",
      "100% (2592000.0 of 2592000.0) |##########| Elapsed Time: 0:11:24 Time:  0:11:24\n"
     ]
    }
   ],
   "source": [
    "psetTest = gridAdvection(fieldset, countG, particleG, experiment_name='test')"
   ]
  },
  {
   "cell_type": "code",
   "execution_count": 94,
   "metadata": {},
   "outputs": [
    {
     "data": {
      "text/plain": [
       "0"
      ]
     },
     "execution_count": 94,
     "metadata": {},
     "output_type": "execute_result"
    }
   ],
   "source": [
    "np.sum(np.isnan(np.array([particle.lon for particle in psetTest])))"
   ]
  },
  {
   "cell_type": "code",
   "execution_count": null,
   "metadata": {},
   "outputs": [],
   "source": []
  }
 ],
 "metadata": {
  "kernelspec": {
   "display_name": "Python 3",
   "language": "python",
   "name": "python3"
  },
  "language_info": {
   "codemirror_mode": {
    "name": "ipython",
    "version": 3
   },
   "file_extension": ".py",
   "mimetype": "text/x-python",
   "name": "python",
   "nbconvert_exporter": "python",
   "pygments_lexer": "ipython3",
   "version": "3.7.3"
  }
 },
 "nbformat": 4,
 "nbformat_minor": 2
}
