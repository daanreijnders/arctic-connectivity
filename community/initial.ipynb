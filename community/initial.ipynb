{
 "cells": [
  {
   "cell_type": "code",
   "execution_count": 7,
   "metadata": {},
   "outputs": [],
   "source": [
    "%matplotlib inline\n",
    "%config InlineBackend.figure_format = 'retina'\n",
    "\n",
    "import numpy as np\n",
    "import xarray as xr\n",
    "\n",
    "import matplotlib.pyplot as plt\n",
    "import cartopy as cart\n",
    "\n",
    "from datetime import timedelta as delta\n",
    "from datetime import datetime\n",
    "\n",
    "from parcels import (grid, Field, FieldSet, ParticleSet, JITParticle, ScipyParticle, AdvectionRK4,\n",
    "                     ErrorCode, ParticleFile, Variable, plotTrajectoriesFile)\n",
    "\n",
    "from importlib import reload\n",
    "import sys\n",
    "sys.path.append('/home/students/4302001/arctic-connectivity/tools')\n",
    "sys.path.append('/Users/daanreijnders/surfdrive/Thesis/repo/tools')\n",
    "import plot\n",
    "import lifeline"
   ]
  },
  {
   "cell_type": "code",
   "execution_count": 13,
   "metadata": {},
   "outputs": [
    {
     "data": {
      "text/plain": [
       "<module 'xarray' from '/Users/daanreijnders/anaconda3/envs/py3_parcels/lib/python3.7/site-packages/xarray/__init__.py'>"
      ]
     },
     "execution_count": 13,
     "metadata": {},
     "output_type": "execute_result"
    }
   ],
   "source": [
    "xr"
   ]
  },
  {
   "cell_type": "code",
   "execution_count": 8,
   "metadata": {},
   "outputs": [
    {
     "data": {
      "text/plain": [
       "<module 'lifeline' from '/Users/daanreijnders/surfdrive/Thesis/repo/tools/lifeline.py'>"
      ]
     },
     "execution_count": 8,
     "metadata": {},
     "output_type": "execute_result"
    }
   ],
   "source": [
    "reload(plot)\n",
    "reload(lifeline)"
   ]
  },
  {
   "cell_type": "code",
   "execution_count": 9,
   "metadata": {},
   "outputs": [],
   "source": [
    "# Specify paths to velocity field and mesh\n",
    "readdir_ocean = '/Users/daanreijnders/Datasets/'\n",
    "readdir_ice = '/Users/daanreijnders/Datasets/'\n",
    "readdir_mesh = '/Users/daanreijnders/Datasets/'\n",
    "\n",
    "# readdir_ice = '/data/oceanparcels/input_data/CESM/0.1_deg/control/ice/arctic/'\n",
    "# readdir_ocean = '/data/oceanparcels/input_data/CESM/0.1_deg/control/ocean/arctic/'\n",
    "# readdir_mesh = '/scratch/DaanR/fields/'\n",
    "\n",
    "fieldfile_ocean = 'daily_CESM_0.1degree_controlrun_year_300_arctic_region_timed.nc'\n",
    "fieldfile_ice = 'monthly_icefields_CESM_0.1degree_controlrun_year_300_arctic.nc'\n",
    "meshfile = 'POP_grid_coordinates.nc'\n",
    "\n",
    "writedir = ''"
   ]
  },
  {
   "cell_type": "code",
   "execution_count": 10,
   "metadata": {},
   "outputs": [],
   "source": [
    "def read_velocity_field(fieldfiles, meshfile=None):\n",
    "    if not meshfile:\n",
    "        meshfile = fieldfiles\n",
    "    filenames = {'U': {'lon': meshfile,\n",
    "                       'lat': meshfile,\n",
    "                       'data':fieldfiles},\n",
    "                 'V': {'lon': meshfile,\n",
    "                       'lat': meshfile,\n",
    "                       'data':fieldfiles}}\n",
    "\n",
    "    variables = {'U': 'UVEL_5m',\n",
    "                 'V': 'VVEL_5m'}\n",
    "\n",
    "    dimensions = {'U': {'time': 'time',\n",
    "                        'lat': 'ULAT',\n",
    "                        'lon': 'ULON'},\n",
    "                  'V': {'time': 'time',\n",
    "                        'lat': 'ULAT',\n",
    "                        'lon': 'ULON'}}\n",
    "    fieldset = FieldSet.from_pop(filenames, variables, dimensions, allow_time_extrapolation=False)\n",
    "    fieldset.U.vmax = 10;  fieldset.U.vmin = -10;  # set max of flow to 10 m/s\n",
    "    fieldset.V.vmax = 10; fieldset.V.vmin = -10;\n",
    "    return fieldset\n",
    "\n",
    "\n",
    "# def add_ice_fields(fieldset, fieldfile, iceVars=['aice', 'hisnap', 'hi'], meshfile=None):\n",
    "#     \"\"\"Not working for now\"\"\"\n",
    "#     if not meshfile:\n",
    "#         meshfile = fieldfiles\n",
    "#     for varName in iceVars:\n",
    "#         filenames = {'lon': [meshfile],\n",
    "#                      'lat': [meshfile],\n",
    "#                      'data': [fieldfile]}\n",
    "#         variable = (varName, varName)\n",
    "#         dimensions = {'time': 'time',\n",
    "#                       'lat': 'TLAT',\n",
    "#                       'lon': 'TLON'}\n",
    "#         field = Field.from_netcdf(filenames, variable, dimensions, allow_time_extrapolation=False)\n",
    "#         fieldset.add_field(field)"
   ]
  },
  {
   "cell_type": "code",
   "execution_count": 11,
   "metadata": {},
   "outputs": [
    {
     "ename": "AttributeError",
     "evalue": "module 'xarray' has no attribute 'core'",
     "output_type": "error",
     "traceback": [
      "\u001b[0;31m---------------------------------------------------------------------------\u001b[0m",
      "\u001b[0;31mAttributeError\u001b[0m                            Traceback (most recent call last)",
      "\u001b[0;32m<ipython-input-11-4de964f1d4e0>\u001b[0m in \u001b[0;36m<module>\u001b[0;34m\u001b[0m\n\u001b[0;32m----> 1\u001b[0;31m \u001b[0mfieldset\u001b[0m \u001b[0;34m=\u001b[0m \u001b[0mread_velocity_field\u001b[0m\u001b[0;34m(\u001b[0m\u001b[0mreaddir_ocean\u001b[0m\u001b[0;34m+\u001b[0m\u001b[0mfieldfile_ocean\u001b[0m\u001b[0;34m,\u001b[0m \u001b[0mmeshfile\u001b[0m\u001b[0;34m=\u001b[0m\u001b[0mreaddir_mesh\u001b[0m\u001b[0;34m+\u001b[0m\u001b[0mmeshfile\u001b[0m\u001b[0;34m)\u001b[0m\u001b[0;34m\u001b[0m\u001b[0;34m\u001b[0m\u001b[0m\n\u001b[0m",
      "\u001b[0;32m<ipython-input-10-715c14ff4312>\u001b[0m in \u001b[0;36mread_velocity_field\u001b[0;34m(fieldfiles, meshfile)\u001b[0m\n\u001b[1;32m     18\u001b[0m                         \u001b[0;34m'lat'\u001b[0m\u001b[0;34m:\u001b[0m \u001b[0;34m'ULAT'\u001b[0m\u001b[0;34m,\u001b[0m\u001b[0;34m\u001b[0m\u001b[0;34m\u001b[0m\u001b[0m\n\u001b[1;32m     19\u001b[0m                         'lon': 'ULON'}}\n\u001b[0;32m---> 20\u001b[0;31m     \u001b[0mfieldset\u001b[0m \u001b[0;34m=\u001b[0m \u001b[0mFieldSet\u001b[0m\u001b[0;34m.\u001b[0m\u001b[0mfrom_pop\u001b[0m\u001b[0;34m(\u001b[0m\u001b[0mfilenames\u001b[0m\u001b[0;34m,\u001b[0m \u001b[0mvariables\u001b[0m\u001b[0;34m,\u001b[0m \u001b[0mdimensions\u001b[0m\u001b[0;34m,\u001b[0m \u001b[0mallow_time_extrapolation\u001b[0m\u001b[0;34m=\u001b[0m\u001b[0;32mFalse\u001b[0m\u001b[0;34m)\u001b[0m\u001b[0;34m\u001b[0m\u001b[0;34m\u001b[0m\u001b[0m\n\u001b[0m\u001b[1;32m     21\u001b[0m     \u001b[0mfieldset\u001b[0m\u001b[0;34m.\u001b[0m\u001b[0mU\u001b[0m\u001b[0;34m.\u001b[0m\u001b[0mvmax\u001b[0m \u001b[0;34m=\u001b[0m \u001b[0;36m10\u001b[0m\u001b[0;34m;\u001b[0m  \u001b[0mfieldset\u001b[0m\u001b[0;34m.\u001b[0m\u001b[0mU\u001b[0m\u001b[0;34m.\u001b[0m\u001b[0mvmin\u001b[0m \u001b[0;34m=\u001b[0m \u001b[0;34m-\u001b[0m\u001b[0;36m10\u001b[0m\u001b[0;34m;\u001b[0m  \u001b[0;31m# set max of flow to 10 m/s\u001b[0m\u001b[0;34m\u001b[0m\u001b[0;34m\u001b[0m\u001b[0m\n\u001b[1;32m     22\u001b[0m     \u001b[0mfieldset\u001b[0m\u001b[0;34m.\u001b[0m\u001b[0mV\u001b[0m\u001b[0;34m.\u001b[0m\u001b[0mvmax\u001b[0m \u001b[0;34m=\u001b[0m \u001b[0;36m10\u001b[0m\u001b[0;34m;\u001b[0m \u001b[0mfieldset\u001b[0m\u001b[0;34m.\u001b[0m\u001b[0mV\u001b[0m\u001b[0;34m.\u001b[0m\u001b[0mvmin\u001b[0m \u001b[0;34m=\u001b[0m \u001b[0;34m-\u001b[0m\u001b[0;36m10\u001b[0m\u001b[0;34m;\u001b[0m\u001b[0;34m\u001b[0m\u001b[0;34m\u001b[0m\u001b[0m\n",
      "\u001b[0;32m~/anaconda3/envs/py3_parcels/lib/python3.7/site-packages/parcels/fieldset.py\u001b[0m in \u001b[0;36mfrom_pop\u001b[0;34m(cls, filenames, variables, dimensions, indices, mesh, allow_time_extrapolation, time_periodic, tracer_interp_method, **kwargs)\u001b[0m\n\u001b[1;32m    478\u001b[0m             \u001b[0mkwargs\u001b[0m\u001b[0;34m[\u001b[0m\u001b[0;34m'creation_log'\u001b[0m\u001b[0;34m]\u001b[0m \u001b[0;34m=\u001b[0m \u001b[0;34m'from_pop'\u001b[0m\u001b[0;34m\u001b[0m\u001b[0;34m\u001b[0m\u001b[0m\n\u001b[1;32m    479\u001b[0m         fieldset = cls.from_b_grid_dataset(filenames, variables, dimensions, mesh=mesh, indices=indices, time_periodic=time_periodic,\n\u001b[0;32m--> 480\u001b[0;31m                                            allow_time_extrapolation=allow_time_extrapolation, tracer_interp_method=tracer_interp_method, **kwargs)\n\u001b[0m\u001b[1;32m    481\u001b[0m         \u001b[0;32mif\u001b[0m \u001b[0mhasattr\u001b[0m\u001b[0;34m(\u001b[0m\u001b[0mfieldset\u001b[0m\u001b[0;34m,\u001b[0m \u001b[0;34m'U'\u001b[0m\u001b[0;34m)\u001b[0m\u001b[0;34m:\u001b[0m\u001b[0;34m\u001b[0m\u001b[0;34m\u001b[0m\u001b[0m\n\u001b[1;32m    482\u001b[0m             \u001b[0mfieldset\u001b[0m\u001b[0;34m.\u001b[0m\u001b[0mU\u001b[0m\u001b[0;34m.\u001b[0m\u001b[0mset_scaling_factor\u001b[0m\u001b[0;34m(\u001b[0m\u001b[0;36m0.01\u001b[0m\u001b[0;34m)\u001b[0m  \u001b[0;31m# cm/s to m/s\u001b[0m\u001b[0;34m\u001b[0m\u001b[0;34m\u001b[0m\u001b[0m\n",
      "\u001b[0;32m~/anaconda3/envs/py3_parcels/lib/python3.7/site-packages/parcels/fieldset.py\u001b[0m in \u001b[0;36mfrom_b_grid_dataset\u001b[0;34m(cls, filenames, variables, dimensions, indices, mesh, allow_time_extrapolation, time_periodic, tracer_interp_method, **kwargs)\u001b[0m\n\u001b[1;32m    556\u001b[0m \u001b[0;34m\u001b[0m\u001b[0m\n\u001b[1;32m    557\u001b[0m         return cls.from_netcdf(filenames, variables, dimensions, mesh=mesh, indices=indices, time_periodic=time_periodic,\n\u001b[0;32m--> 558\u001b[0;31m                                allow_time_extrapolation=allow_time_extrapolation, interp_method=interp_method, **kwargs)\n\u001b[0m\u001b[1;32m    559\u001b[0m \u001b[0;34m\u001b[0m\u001b[0m\n\u001b[1;32m    560\u001b[0m     \u001b[0;34m@\u001b[0m\u001b[0mclassmethod\u001b[0m\u001b[0;34m\u001b[0m\u001b[0;34m\u001b[0m\u001b[0m\n",
      "\u001b[0;32m~/anaconda3/envs/py3_parcels/lib/python3.7/site-packages/parcels/fieldset.py\u001b[0m in \u001b[0;36mfrom_netcdf\u001b[0;34m(cls, filenames, variables, dimensions, indices, mesh, timestamps, allow_time_extrapolation, time_periodic, deferred_load, **kwargs)\u001b[0m\n\u001b[1;32m    287\u001b[0m             fields[var] = Field.from_netcdf(paths, (var, name), dims, inds, grid=grid, mesh=mesh, timestamps=timestamps,\n\u001b[1;32m    288\u001b[0m                                             \u001b[0mallow_time_extrapolation\u001b[0m\u001b[0;34m=\u001b[0m\u001b[0mallow_time_extrapolation\u001b[0m\u001b[0;34m,\u001b[0m\u001b[0;34m\u001b[0m\u001b[0;34m\u001b[0m\u001b[0m\n\u001b[0;32m--> 289\u001b[0;31m                                             time_periodic=time_periodic, deferred_load=deferred_load, **kwargs)\n\u001b[0m\u001b[1;32m    290\u001b[0m         \u001b[0mu\u001b[0m \u001b[0;34m=\u001b[0m \u001b[0mfields\u001b[0m\u001b[0;34m.\u001b[0m\u001b[0mpop\u001b[0m\u001b[0;34m(\u001b[0m\u001b[0;34m'U'\u001b[0m\u001b[0;34m,\u001b[0m \u001b[0;32mNone\u001b[0m\u001b[0;34m)\u001b[0m\u001b[0;34m\u001b[0m\u001b[0;34m\u001b[0m\u001b[0m\n\u001b[1;32m    291\u001b[0m         \u001b[0mv\u001b[0m \u001b[0;34m=\u001b[0m \u001b[0mfields\u001b[0m\u001b[0;34m.\u001b[0m\u001b[0mpop\u001b[0m\u001b[0;34m(\u001b[0m\u001b[0;34m'V'\u001b[0m\u001b[0;34m,\u001b[0m \u001b[0;32mNone\u001b[0m\u001b[0;34m)\u001b[0m\u001b[0;34m\u001b[0m\u001b[0;34m\u001b[0m\u001b[0m\n",
      "\u001b[0;32m~/anaconda3/envs/py3_parcels/lib/python3.7/site-packages/parcels/field.py\u001b[0m in \u001b[0;36mfrom_netcdf\u001b[0;34m(cls, filenames, variable, dimensions, indices, grid, mesh, timestamps, allow_time_extrapolation, time_periodic, deferred_load, **kwargs)\u001b[0m\n\u001b[1;32m    185\u001b[0m                 \u001b[0;32mraise\u001b[0m \u001b[0mTypeError\u001b[0m\u001b[0;34m(\u001b[0m\u001b[0;34m\"filenames type is inconsistent with manual timestamp provision.\"\u001b[0m\u001b[0;34m)\u001b[0m\u001b[0;34m\u001b[0m\u001b[0;34m\u001b[0m\u001b[0m\n\u001b[1;32m    186\u001b[0m \u001b[0;34m\u001b[0m\u001b[0m\n\u001b[0;32m--> 187\u001b[0;31m         \u001b[0;32mif\u001b[0m \u001b[0misinstance\u001b[0m\u001b[0;34m(\u001b[0m\u001b[0mvariable\u001b[0m\u001b[0;34m,\u001b[0m \u001b[0mxr\u001b[0m\u001b[0;34m.\u001b[0m\u001b[0mcore\u001b[0m\u001b[0;34m.\u001b[0m\u001b[0mdataarray\u001b[0m\u001b[0;34m.\u001b[0m\u001b[0mDataArray\u001b[0m\u001b[0;34m)\u001b[0m\u001b[0;34m:\u001b[0m\u001b[0;34m\u001b[0m\u001b[0;34m\u001b[0m\u001b[0m\n\u001b[0m\u001b[1;32m    188\u001b[0m             \u001b[0mlonlat_filename\u001b[0m \u001b[0;34m=\u001b[0m \u001b[0mvariable\u001b[0m\u001b[0;34m\u001b[0m\u001b[0;34m\u001b[0m\u001b[0m\n\u001b[1;32m    189\u001b[0m             \u001b[0mdepth_filename\u001b[0m \u001b[0;34m=\u001b[0m \u001b[0mvariable\u001b[0m\u001b[0;34m\u001b[0m\u001b[0;34m\u001b[0m\u001b[0m\n",
      "\u001b[0;31mAttributeError\u001b[0m: module 'xarray' has no attribute 'core'"
     ]
    }
   ],
   "source": [
    "fieldset = read_velocity_field(readdir_ocean+fieldfile_ocean, meshfile=readdir_mesh+meshfile)  "
   ]
  },
  {
   "cell_type": "code",
   "execution_count": null,
   "metadata": {},
   "outputs": [],
   "source": [
    "#add_ice_fields(fieldset, readdir_ice+fieldfile_ice, meshfile=readdir_mesh+meshfile)"
   ]
  },
  {
   "cell_type": "code",
   "execution_count": null,
   "metadata": {},
   "outputs": [],
   "source": [
    "class myGrid:\n",
    "    def __init__(self, nlon, nlat, minLat=60., maxLat=90., minLon=-180, maxLon=180):\n",
    "        self.nlat = nlat\n",
    "        self.nlon = nlon\n",
    "        self.dlat = (maxLat - minLat)/nlat\n",
    "        self.dlon = 360/nlon\n",
    "        \n",
    "class countGrid(myGrid):\n",
    "    def __init__(self, nlon, nlat, minLat=60., maxLat=90., minLon=-180, maxLon=180):\n",
    "        myGrid.__init__(self, nlon, nlat, minLat, maxLat, minLon, maxLon)\n",
    "        \n",
    "        self.latOffset = self.dlat/2\n",
    "        self.lonOffset = self.dlon/2\n",
    "        self.latBounds = np.linspace(minLat, maxLat, nlat+1)\n",
    "        self.lonBounds = np.linspace(minLon, maxLon, nlon+1)\n",
    "        latarr = np.linspace(minLat+self.latOffset, maxLat-self.latOffset, nlat) # center\n",
    "        lonarr = np.linspace(minLon+self.lonOffset, maxLon-self.lonOffset, nlon) # center\n",
    "        self.lons, self.lats = np.meshgrid(lonarr, latarr)\n",
    "        self.lonIdx, self.latIdx = np.meshgrid(np.arange(self.nlon), np.arange(self.nlat))\n",
    "        \n",
    "    def countInit(self, particleGrid):\n",
    "        self.initCount = np.histogram2d(particleGrid.lonlat[:,0], particleGrid.lonlat[:,1], bins=[self.lonBounds, self.latBounds])\n",
    "    \n",
    "    def transMat(self):\n",
    "        pass\n",
    "    \n",
    "class particleGrid(myGrid):\n",
    "    def __init__(self, nlon, nlat, release_time, minLat=60.5, maxLat=89.5, minLon=-179.5, maxLon=179.5):\n",
    "        myGrid.__init__(self, nlon, nlat, minLat, maxLat, minLon, maxLon)\n",
    "        self.advected = False\n",
    "        if release_time:\n",
    "                self.release_time = release_time\n",
    "        # Create mesh\n",
    "        self.latarr = np.linspace(minLat, maxLat, nlat) # particle position\n",
    "        self.lonarr = np.linspace(minLon, maxLon, nlon) # particle position\n",
    "        self.lons, self.lats = np.meshgrid(self.lonarr, self.latarr)\n",
    "        \n",
    "        # Create pairs and flatten using a reshape\n",
    "        self.lonlat_3d = np.dstack((self.lons, self.lats))\n",
    "        self.initialParticleCount = self.countParticles()\n",
    "        self.lonlat = np.reshape(self.lonlat_3d, (self.particleCount, 2))\n",
    "        \n",
    "        # Create labels\n",
    "        self.lonlat_labels = np.arange(self.particleCount)\n",
    "        \n",
    "    def countParticles(self):\n",
    "        if not hasattr(self, 'lonlat') and self.advected == False:\n",
    "            self.particleCount = self.lonlat_3d.shape[0]*self.lonlat_3d.shape[1]\n",
    "        else:\n",
    "            self.particleCount = self.lonlat[~np.isnan(self.lonlat)].shape[0]\n",
    "        return self.particleCount\n",
    "            \n",
    "    def getBindex(self, countGrid):\n",
    "        self.bindex = np.dstack((np.searchsorted(countGrid.lonBounds, self.lonlat[:,0]), np.searchsorted(countGrid.latBounds, self.lonlat[:,1])))\n",
    "        return self.bindex\n",
    "# Counter does not actually track positions"
   ]
  },
  {
   "cell_type": "code",
   "execution_count": null,
   "metadata": {},
   "outputs": [],
   "source": [
    "def wrapLon(particle, fieldset, time):\n",
    "    if particle.lon > 180.:\n",
    "        particle.lon = particle.lon - 360.\n",
    "    if particle.lon < -180.:\n",
    "        particle.lon = particle.lon + 360.\n",
    "\n",
    "def deleteParticle(particle, fieldset, time):\n",
    "    particle.delete()"
   ]
  },
  {
   "cell_type": "code",
   "execution_count": null,
   "metadata": {},
   "outputs": [],
   "source": [
    "# Particle execution function\n",
    "def gridAdvection(fieldset, \\\n",
    "                  countGrid, \\\n",
    "                  particleGrid, \\\n",
    "                  experiment_name='', \\\n",
    "                  runtime=delta(days=30), \\\n",
    "                  dt = delta(minutes=5), \\\n",
    "                  outputdt = delta(hours = 12)):\n",
    "    pset = ParticleSet.from_list(fieldset, JITParticle, particles.lonlat[:,0], particles.lonlat[:,1])\n",
    "    kernels = pset.Kernel(AdvectionRK4) + pset.Kernel(wrapLon)\n",
    "    pfile = pset.ParticleFile(name = writedir+\"pset_\"+experiment_name, outputdt=outputdt)\n",
    "    print(f\"Run: Advecting particles for {runtime}\")\n",
    "    pset.execute(kernels, \\\n",
    "                 runtime = runtime, \\\n",
    "                 dt = dt, \\\n",
    "                 output_file = pfile, \\\n",
    "                 recovery = {ErrorCode.ErrorOutOfBounds: deleteParticle})\n",
    "    return pset"
   ]
  },
  {
   "cell_type": "code",
   "execution_count": null,
   "metadata": {},
   "outputs": [],
   "source": [
    "countG = countGrid(60, 30)\n",
    "particleG = particleGrid(119, 59, 0)"
   ]
  },
  {
   "cell_type": "code",
   "execution_count": null,
   "metadata": {},
   "outputs": [],
   "source": [
    "psetTest = gridAdvection(fieldset, countG, particleG, experiment_name='test')"
   ]
  },
  {
   "cell_type": "code",
   "execution_count": null,
   "metadata": {},
   "outputs": [],
   "source": [
    "np.sum(np.isnan(np.array([particle.lon for particle in psetTest])))"
   ]
  },
  {
   "cell_type": "code",
   "execution_count": null,
   "metadata": {},
   "outputs": [],
   "source": []
  }
 ],
 "metadata": {
  "kernelspec": {
   "display_name": "Python 3",
   "language": "python",
   "name": "python3"
  },
  "language_info": {
   "codemirror_mode": {
    "name": "ipython",
    "version": 3
   },
   "file_extension": ".py",
   "mimetype": "text/x-python",
   "name": "python",
   "nbconvert_exporter": "python",
   "pygments_lexer": "ipython3",
   "version": "3.7.3"
  }
 },
 "nbformat": 4,
 "nbformat_minor": 2
}
