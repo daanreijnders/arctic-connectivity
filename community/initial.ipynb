{
 "cells": [
  {
   "cell_type": "code",
   "execution_count": 1,
   "metadata": {},
   "outputs": [],
   "source": [
    "%matplotlib inline\n",
    "%config InlineBackend.figure_format = 'retina'\n",
    "\n",
    "import numpy as np\n",
    "import xarray as xr\n",
    "\n",
    "import matplotlib.pyplot as plt\n",
    "import cartopy as cart\n",
    "\n",
    "from datetime import timedelta as delta\n",
    "from datetime import datetime\n",
    "\n",
    "from parcels import (grid, Field, FieldSet, ParticleSet, JITParticle, ScipyParticle, AdvectionRK4,\n",
    "                     ErrorCode, ParticleFile, Variable, plotTrajectoriesFile)\n",
    "\n",
    "from importlib import reload\n",
    "import sys\n",
    "sys.path.append('/home/students/4302001/arctic-connectivity/tools')\n",
    "sys.path.append('/Users/daanreijnders/surfdrive/Thesis/repo/tools')\n",
    "import plot\n",
    "import lifeline"
   ]
  },
  {
   "cell_type": "code",
   "execution_count": 2,
   "metadata": {},
   "outputs": [
    {
     "data": {
      "text/plain": [
       "<module 'lifeline' from '/home/students/4302001/arctic-connectivity/tools/lifeline.py'>"
      ]
     },
     "execution_count": 2,
     "metadata": {},
     "output_type": "execute_result"
    }
   ],
   "source": [
    "reload(plot)\n",
    "reload(lifeline)"
   ]
  },
  {
   "cell_type": "code",
   "execution_count": 3,
   "metadata": {},
   "outputs": [],
   "source": [
    "# Specify paths to velocity field and mesh\n",
    "# readdir_ocean = '/Users/daanreijnders/Datasets/'\n",
    "# readdir_ice = '/Users/daanreijnders/Datasets/'\n",
    "# readdir_mesh = '/Users/daanreijnders/Datasets/'\n",
    "\n",
    "readdir_ice = '/data/oceanparcels/input_data/CESM/0.1_deg/control/ice/arctic/'\n",
    "readdir_ocean = '/data/oceanparcels/input_data/CESM/0.1_deg/control/ocean/arctic/'\n",
    "readdir_mesh = '/scratch/DaanR/fields/'\n",
    "\n",
    "fieldfile_ocean = 'daily_CESM_0.1degree_controlrun_year_300_arctic_region_timed.nc'\n",
    "fieldfile_ice = 'monthly_icefields_CESM_0.1degree_controlrun_year_300_arctic.nc'\n",
    "meshfile = 'POP_grid_coordinates.nc'\n",
    "\n",
    "writedir = ''"
   ]
  },
  {
   "cell_type": "code",
   "execution_count": 4,
   "metadata": {},
   "outputs": [],
   "source": [
    "def read_velocity_field(fieldfiles, meshfile=None):\n",
    "    if not meshfile:\n",
    "        meshfile = fieldfiles\n",
    "    filenames = {'U': {'lon': meshfile,\n",
    "                       'lat': meshfile,\n",
    "                       'data':fieldfiles},\n",
    "                 'V': {'lon': meshfile,\n",
    "                       'lat': meshfile,\n",
    "                       'data':fieldfiles}}\n",
    "\n",
    "    variables = {'U': 'UVEL_5m',\n",
    "                 'V': 'VVEL_5m'}\n",
    "\n",
    "    dimensions = {'U': {'time': 'time',\n",
    "                        'lat': 'ULAT',\n",
    "                        'lon': 'ULON'},\n",
    "                  'V': {'time': 'time',\n",
    "                        'lat': 'ULAT',\n",
    "                        'lon': 'ULON'}}\n",
    "    fieldset = FieldSet.from_pop(filenames, variables, dimensions, allow_time_extrapolation=False)\n",
    "    fieldset.U.vmax = 10;  fieldset.U.vmin = -10;  # set max of flow to 10 m/s\n",
    "    fieldset.V.vmax = 10; fieldset.V.vmin = -10;\n",
    "    return fieldset\n",
    "\n",
    "\n",
    "def add_ice_fields(fieldset, fieldfile, iceVars=['aice', 'hisnap', 'hi'], meshfile=None):\n",
    "    \"\"\"Not working for now\"\"\"\n",
    "    if not meshfile:\n",
    "        meshfile = fieldfiles\n",
    "    for varName in iceVars:\n",
    "        filenames = {'lon': [meshfile],\n",
    "                     'lat': [meshfile],\n",
    "                     'data': [fieldfile]}\n",
    "        variable = (varName, varName)\n",
    "        dimensions = {'time': 'time',\n",
    "                      'lat': 'TLAT',\n",
    "                      'lon': 'TLON'}\n",
    "        field = Field.from_netcdf(filenames, variable, dimensions, allow_time_extrapolation=False)\n",
    "        fieldset.add_field(field)"
   ]
  },
  {
   "cell_type": "code",
   "execution_count": 5,
   "metadata": {},
   "outputs": [
    {
     "name": "stderr",
     "output_type": "stream",
     "text": [
      "WARNING: Casting depth data to np.float32\n"
     ]
    }
   ],
   "source": [
    "fieldset = read_velocity_field(readdir_ocean+fieldfile_ocean, meshfile=readdir_mesh+meshfile)  "
   ]
  },
  {
   "cell_type": "code",
   "execution_count": 6,
   "metadata": {},
   "outputs": [],
   "source": [
    "add_ice_fields(fieldset, readdir_ice+fieldfile_ice, meshfile=readdir_mesh+meshfile)"
   ]
  },
  {
   "cell_type": "code",
   "execution_count": 194,
   "metadata": {},
   "outputs": [],
   "source": [
    "class myGrid:\n",
    "    def __init__(self, nlon, nlat, minLat=60., maxLat=90., minLon=-180, maxLon=180):\n",
    "        self.nlat = nlat\n",
    "        self.nlon = nlon\n",
    "        self.dlat = (maxLat - minLat)/nlat\n",
    "        self.dlon = 360/nlon\n",
    "        \n",
    "class communityGrid(myGrid):\n",
    "    def __init__(self, nlon, nlat, minLat=60., maxLat=90., minLon=-180, maxLon=180):\n",
    "        myGrid.__init__(self, nlon, nlat, minLat, maxLat, minLon, maxLon)\n",
    "        \n",
    "        self.latOffset = self.dlat/2\n",
    "        self.lonOffset = self.dlon/2\n",
    "        self.latBounds = np.linspace(minLat, maxLat, nlat+1)\n",
    "        self.lonBounds = np.linspace(minLon, maxLon, nlon+1)\n",
    "        latarr = np.linspace(minLat+self.latOffset, maxLat-self.latOffset, nlat) # center\n",
    "        lonarr = np.linspace(minLon+self.lonOffset, maxLon-self.lonOffset, nlon) # center\n",
    "        self.lons, self.lats = np.meshgrid(lonarr, latarr)\n",
    "        \n",
    "    def countInit(self, releaseGrid):\n",
    "        self.count_latlons = np.dstack((releaseGrid.lons, releaseGrid.lats))\n",
    "        nPairs = releaseGrid.lons.flatten().shape[0]\n",
    "        self.count_latlons = np.reshape(self.count_latlons, (nPairs, 2))\n",
    "        self.initCount = np.histogram2d(self.count_latlons[:,0], self.count_latlons[:,1], bins=[self.lonBounds, self.latBounds])\n",
    "        \n",
    "class releaseGrid(myGrid):\n",
    "    def __init__(self, nlon, nlat, release_time, minLat=60.5, maxLat=89.5, minLon=-179.5, maxLon=179.5):\n",
    "        myGrid.__init__(self, nlon, nlat, minLat, maxLat, minLon, maxLon)\n",
    "        if release_time:\n",
    "                self.release_time = release_time\n",
    "        latarr = np.linspace(minLat, maxLat, nlat) # particle position\n",
    "        lonarr = np.linspace(minLon, maxLon, nlon) # particle position\n",
    "        self.lons, self.lats = np.meshgrid(lonarr, latarr)\n",
    "\n",
    "# Counter does not actually track positions"
   ]
  },
  {
   "cell_type": "code",
   "execution_count": 195,
   "metadata": {},
   "outputs": [],
   "source": [
    "counter = communityGrid(60, 30)\n",
    "release = releaseGrid(119, 59, 0)"
   ]
  },
  {
   "cell_type": "code",
   "execution_count": 202,
   "metadata": {},
   "outputs": [
    {
     "data": {
      "text/plain": [
       "(2, 3, 2)"
      ]
     },
     "execution_count": 202,
     "metadata": {},
     "output_type": "execute_result"
    }
   ],
   "source": [
    "a = np.array([[1,2,3], [4,5,6]])\n",
    "b = np.array([[21,22,23],[24,25,26]])\n",
    "np.dstack((a,b)).shape"
   ]
  },
  {
   "cell_type": "code",
   "execution_count": null,
   "metadata": {},
   "outputs": [],
   "source": []
  }
 ],
 "metadata": {
  "kernelspec": {
   "display_name": "Python 3",
   "language": "python",
   "name": "python3"
  },
  "language_info": {
   "codemirror_mode": {
    "name": "ipython",
    "version": 3
   },
   "file_extension": ".py",
   "mimetype": "text/x-python",
   "name": "python",
   "nbconvert_exporter": "python",
   "pygments_lexer": "ipython3",
   "version": "3.7.1"
  }
 },
 "nbformat": 4,
 "nbformat_minor": 2
}
