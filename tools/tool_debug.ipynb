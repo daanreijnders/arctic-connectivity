{
 "cells": [
  {
   "cell_type": "code",
   "execution_count": 1,
   "metadata": {},
   "outputs": [],
   "source": [
    "import pandas as pd"
   ]
  },
  {
   "cell_type": "code",
   "execution_count": 2,
   "metadata": {},
   "outputs": [],
   "source": []
  },
  {
   "cell_type": "code",
   "execution_count": 41,
   "metadata": {},
   "outputs": [],
   "source": [
    "with open('temp/graph_rcp_P3590x590_S2000-1-9_D30_DT20_ODT12_LAT60.1-89.9_LON-179.9-179.9.tree') as treeFile:\n",
    "    tree = treeFile.read().split('\\n')\n",
    "codelength = float(tree[0].split(' ')[3])\n",
    "header = tree[1].split(' ')[1:]\n",
    "body = [line.split(' ') for line in tree[2:] if line is not '']\n",
    "communityDF = pd.DataFrame(body, columns=header).drop(columns=\"name\").rename(columns={'physicalId': 'node'})\n",
    "communityDF['rank'] = communityDF['path'].map(lambda a: a.split(\":\")[-1])\n",
    "communityDF['module'] = communityDF['path'].map(lambda a: a.split(\":\")[-2])\n",
    "communityDF = communityDF.astype({\"node\" : \"int\",  \"module\" : \"int\", \"flow\" : \"float\"}).set_index(\"node\")"
   ]
  },
  {
   "cell_type": "code",
   "execution_count": 44,
   "metadata": {},
   "outputs": [
    {
     "data": {
      "text/html": [
       "<div>\n",
       "<style scoped>\n",
       "    .dataframe tbody tr th:only-of-type {\n",
       "        vertical-align: middle;\n",
       "    }\n",
       "\n",
       "    .dataframe tbody tr th {\n",
       "        vertical-align: top;\n",
       "    }\n",
       "\n",
       "    .dataframe thead th {\n",
       "        text-align: right;\n",
       "    }\n",
       "</style>\n",
       "<table border=\"1\" class=\"dataframe\">\n",
       "  <thead>\n",
       "    <tr style=\"text-align: right;\">\n",
       "      <th></th>\n",
       "      <th>path</th>\n",
       "      <th>flow</th>\n",
       "      <th>rank</th>\n",
       "      <th>module</th>\n",
       "    </tr>\n",
       "    <tr>\n",
       "      <th>node</th>\n",
       "      <th></th>\n",
       "      <th></th>\n",
       "      <th></th>\n",
       "      <th></th>\n",
       "    </tr>\n",
       "  </thead>\n",
       "  <tbody>\n",
       "    <tr>\n",
       "      <td>1</td>\n",
       "      <td>1:1:1:1:1:1</td>\n",
       "      <td>1.459210e-05</td>\n",
       "      <td>1</td>\n",
       "      <td>1</td>\n",
       "    </tr>\n",
       "    <tr>\n",
       "      <td>240</td>\n",
       "      <td>1:1:1:1:1:2</td>\n",
       "      <td>0.000000e+00</td>\n",
       "      <td>2</td>\n",
       "      <td>1</td>\n",
       "    </tr>\n",
       "    <tr>\n",
       "      <td>478</td>\n",
       "      <td>1:1:1:1:1:3</td>\n",
       "      <td>7.854840e-04</td>\n",
       "      <td>3</td>\n",
       "      <td>1</td>\n",
       "    </tr>\n",
       "    <tr>\n",
       "      <td>479</td>\n",
       "      <td>1:1:1:1:1:4</td>\n",
       "      <td>9.399530e-05</td>\n",
       "      <td>4</td>\n",
       "      <td>1</td>\n",
       "    </tr>\n",
       "    <tr>\n",
       "      <td>480</td>\n",
       "      <td>1:1:1:1:1:5</td>\n",
       "      <td>0.000000e+00</td>\n",
       "      <td>5</td>\n",
       "      <td>1</td>\n",
       "    </tr>\n",
       "    <tr>\n",
       "      <td>2</td>\n",
       "      <td>1:1:1:1:1:6</td>\n",
       "      <td>2.948380e-06</td>\n",
       "      <td>6</td>\n",
       "      <td>1</td>\n",
       "    </tr>\n",
       "    <tr>\n",
       "      <td>4</td>\n",
       "      <td>1:1:1:1:2:1</td>\n",
       "      <td>0.000000e+00</td>\n",
       "      <td>1</td>\n",
       "      <td>2</td>\n",
       "    </tr>\n",
       "    <tr>\n",
       "      <td>237</td>\n",
       "      <td>1:1:1:1:2:2</td>\n",
       "      <td>1.150370e-04</td>\n",
       "      <td>2</td>\n",
       "      <td>2</td>\n",
       "    </tr>\n",
       "    <tr>\n",
       "      <td>238</td>\n",
       "      <td>1:1:1:1:2:3</td>\n",
       "      <td>8.682650e-05</td>\n",
       "      <td>3</td>\n",
       "      <td>2</td>\n",
       "    </tr>\n",
       "    <tr>\n",
       "      <td>5</td>\n",
       "      <td>1:1:1:1:3:1</td>\n",
       "      <td>2.953870e-05</td>\n",
       "      <td>1</td>\n",
       "      <td>3</td>\n",
       "    </tr>\n",
       "    <tr>\n",
       "      <td>6</td>\n",
       "      <td>1:1:1:1:3:2</td>\n",
       "      <td>2.176030e-06</td>\n",
       "      <td>2</td>\n",
       "      <td>3</td>\n",
       "    </tr>\n",
       "    <tr>\n",
       "      <td>7</td>\n",
       "      <td>1:1:1:1:3:3</td>\n",
       "      <td>0.000000e+00</td>\n",
       "      <td>3</td>\n",
       "      <td>3</td>\n",
       "    </tr>\n",
       "    <tr>\n",
       "      <td>239</td>\n",
       "      <td>1:1:1:1:3:4</td>\n",
       "      <td>2.343670e-05</td>\n",
       "      <td>4</td>\n",
       "      <td>3</td>\n",
       "    </tr>\n",
       "    <tr>\n",
       "      <td>241</td>\n",
       "      <td>1:1:1:1:3:5</td>\n",
       "      <td>4.116770e-04</td>\n",
       "      <td>5</td>\n",
       "      <td>3</td>\n",
       "    </tr>\n",
       "    <tr>\n",
       "      <td>242</td>\n",
       "      <td>1:1:1:1:3:6</td>\n",
       "      <td>1.631480e-04</td>\n",
       "      <td>6</td>\n",
       "      <td>3</td>\n",
       "    </tr>\n",
       "    <tr>\n",
       "      <td>243</td>\n",
       "      <td>1:1:1:1:3:7</td>\n",
       "      <td>1.349010e-05</td>\n",
       "      <td>7</td>\n",
       "      <td>3</td>\n",
       "    </tr>\n",
       "    <tr>\n",
       "      <td>244</td>\n",
       "      <td>1:1:1:1:3:8</td>\n",
       "      <td>5.356390e-07</td>\n",
       "      <td>8</td>\n",
       "      <td>3</td>\n",
       "    </tr>\n",
       "    <tr>\n",
       "      <td>245</td>\n",
       "      <td>1:1:1:1:3:9</td>\n",
       "      <td>0.000000e+00</td>\n",
       "      <td>9</td>\n",
       "      <td>3</td>\n",
       "    </tr>\n",
       "    <tr>\n",
       "      <td>246</td>\n",
       "      <td>1:1:1:1:3:10</td>\n",
       "      <td>0.000000e+00</td>\n",
       "      <td>10</td>\n",
       "      <td>3</td>\n",
       "    </tr>\n",
       "    <tr>\n",
       "      <td>3</td>\n",
       "      <td>1:1:1:1:4:1</td>\n",
       "      <td>0.000000e+00</td>\n",
       "      <td>1</td>\n",
       "      <td>4</td>\n",
       "    </tr>\n",
       "  </tbody>\n",
       "</table>\n",
       "</div>"
      ],
      "text/plain": [
       "              path          flow rank  module\n",
       "node                                         \n",
       "1      1:1:1:1:1:1  1.459210e-05    1       1\n",
       "240    1:1:1:1:1:2  0.000000e+00    2       1\n",
       "478    1:1:1:1:1:3  7.854840e-04    3       1\n",
       "479    1:1:1:1:1:4  9.399530e-05    4       1\n",
       "480    1:1:1:1:1:5  0.000000e+00    5       1\n",
       "2      1:1:1:1:1:6  2.948380e-06    6       1\n",
       "4      1:1:1:1:2:1  0.000000e+00    1       2\n",
       "237    1:1:1:1:2:2  1.150370e-04    2       2\n",
       "238    1:1:1:1:2:3  8.682650e-05    3       2\n",
       "5      1:1:1:1:3:1  2.953870e-05    1       3\n",
       "6      1:1:1:1:3:2  2.176030e-06    2       3\n",
       "7      1:1:1:1:3:3  0.000000e+00    3       3\n",
       "239    1:1:1:1:3:4  2.343670e-05    4       3\n",
       "241    1:1:1:1:3:5  4.116770e-04    5       3\n",
       "242    1:1:1:1:3:6  1.631480e-04    6       3\n",
       "243    1:1:1:1:3:7  1.349010e-05    7       3\n",
       "244    1:1:1:1:3:8  5.356390e-07    8       3\n",
       "245    1:1:1:1:3:9  0.000000e+00    9       3\n",
       "246   1:1:1:1:3:10  0.000000e+00   10       3\n",
       "3      1:1:1:1:4:1  0.000000e+00    1       4"
      ]
     },
     "execution_count": 44,
     "metadata": {},
     "output_type": "execute_result"
    }
   ],
   "source": [
    "communityDF.head(n=20)"
   ]
  },
  {
   "cell_type": "code",
   "execution_count": 61,
   "metadata": {},
   "outputs": [
    {
     "data": {
      "text/plain": [
       "array(['1:1:1:1:1:1', '1:1:1:1:1:2', '1:1:1:1:1:3', ..., '1150:1',\n",
       "       '1151:1', '1152:1'], dtype=object)"
      ]
     },
     "execution_count": 61,
     "metadata": {},
     "output_type": "execute_result"
    }
   ],
   "source": [
    "communityDF['path'].values"
   ]
  },
  {
   "cell_type": "code",
   "execution_count": 59,
   "metadata": {},
   "outputs": [],
   "source": [
    "depth = 0\n",
    "for index, row in communityDF.iterrows():\n",
    "    length = len(row['path'].split(':')) - 1\n",
    "    if length > depth:\n",
    "        depth = length"
   ]
  },
  {
   "cell_type": "code",
   "execution_count": 60,
   "metadata": {},
   "outputs": [
    {
     "data": {
      "text/plain": [
       "7"
      ]
     },
     "execution_count": 60,
     "metadata": {},
     "output_type": "execute_result"
    }
   ],
   "source": [
    "for level in range(depth)"
   ]
  },
  {
   "cell_type": "code",
   "execution_count": 53,
   "metadata": {},
   "outputs": [
    {
     "data": {
      "text/plain": [
       "2"
      ]
     },
     "execution_count": 53,
     "metadata": {},
     "output_type": "execute_result"
    }
   ],
   "source": [
    "len(k)"
   ]
  },
  {
   "cell_type": "code",
   "execution_count": null,
   "metadata": {},
   "outputs": [],
   "source": []
  }
 ],
 "metadata": {
  "kernelspec": {
   "display_name": "Python 3",
   "language": "python",
   "name": "python3"
  },
  "language_info": {
   "codemirror_mode": {
    "name": "ipython",
    "version": 3
   },
   "file_extension": ".py",
   "mimetype": "text/x-python",
   "name": "python",
   "nbconvert_exporter": "python",
   "pygments_lexer": "ipython3",
   "version": "3.7.3"
  }
 },
 "nbformat": 4,
 "nbformat_minor": 4
}
