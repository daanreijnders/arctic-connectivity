{
 "cells": [
  {
   "cell_type": "code",
   "execution_count": 8,
   "metadata": {},
   "outputs": [],
   "source": [
    "import xarray as xr\n",
    "\n",
    "from importlib import reload\n",
    "import sys\n",
    "sys.path.append('/home/students/4302001/arctic-connectivity/tools')\n",
    "import plot\n",
    "import lifeline"
   ]
  },
  {
   "cell_type": "code",
   "execution_count": 9,
   "metadata": {},
   "outputs": [
    {
     "data": {
      "text/plain": [
       "<module 'lifeline' from '/home/students/4302001/arctic-connectivity/tools/lifeline.py'>"
      ]
     },
     "execution_count": 9,
     "metadata": {},
     "output_type": "execute_result"
    }
   ],
   "source": [
    "# Run in case you're debugging\n",
    "reload(plot)\n",
    "reload(lifeline)"
   ]
  },
  {
   "cell_type": "code",
   "execution_count": 10,
   "metadata": {},
   "outputs": [],
   "source": [
    "# Specify paths to velocity field and mesh\n",
    "#readdir_ocean = '/Users/daanreijnders/Datasets/'\n",
    "#readdir_ice = '/Users/daanreijnders/Datasets/'\n",
    "\n",
    "readdir_ice = '/data/oceanparcels/input_data/CESM/0.1_deg/control/ice/arctic/'\n",
    "readdir_ocean = '/data/oceanparcels/input_data/CESM/0.1_deg/control/ocean/arctic/'\n",
    "readdir_mesh = '/scratch/DaanR/fields/'\n",
    "\n",
    "fieldfile_ocean = 'daily_CESM_0.1degree_controlrun_year_300_arctic_region_timed.nc'\n",
    "fieldfile_ice = 'monthly_icefields_CESM_0.1degree_controlrun_year_300_arctic'\n",
    "meshfile = 'POP_grid_lat1800plus.nc'\n",
    "\n",
    "writedir = ''"
   ]
  },
  {
   "cell_type": "code",
   "execution_count": 11,
   "metadata": {},
   "outputs": [],
   "source": [
    "U_field = xr.open_dataset(readdir_ocean+fieldfile_ocean)['UVEL_5m']\n",
    "V_field = xr.open_dataset(readdir_ocean+fieldfile_ocean)['VVEL_5m']\n",
    "POP_mesh = xr.open_dataset(readdir_mesh+meshfile)\n",
    "ULAT = POP_mesh['U_LAT_2D']\n",
    "ULON = POP_mesh['U_LON_2D']"
   ]
  },
  {
   "cell_type": "code",
   "execution_count": 12,
   "metadata": {},
   "outputs": [
    {
     "data": {
      "text/plain": [
       "<xarray.DataArray 'time' ()>\n",
       "array('2000-04-25T00:00:00.000000000', dtype='datetime64[ns]')\n",
       "Coordinates:\n",
       "    time     datetime64[ns] 2000-04-25\n",
       "Attributes:\n",
       "    standard_name:  time\n",
       "    axis:           T"
      ]
     },
     "execution_count": 12,
     "metadata": {},
     "output_type": "execute_result"
    }
   ],
   "source": [
    "U_field['time'][115] # Check timestamp associated with field at index 115"
   ]
  },
  {
   "cell_type": "code",
   "execution_count": 13,
   "metadata": {},
   "outputs": [
    {
     "data": {
      "text/plain": [
       "(365, 601, 3600)"
      ]
     },
     "execution_count": 13,
     "metadata": {},
     "output_type": "execute_result"
    }
   ],
   "source": [
    "U_field.shape # Check if shape makes sense"
   ]
  },
  {
   "cell_type": "code",
   "execution_count": null,
   "metadata": {},
   "outputs": [],
   "source": [
    "plot.fromDataset(ULON, ULAT, U_field[0,:,:], polar=False, latRange=(60,90), \\\n",
    "                units='cm/s', export=\"POP_field_drift_world_U0\", title=f\"U at index 0 ({str(U_field['time'][0].data)[:10]})\")\n",
    "plot.fromDataset(ULON, ULAT, U_field[50,:,:], polar=False, latRange=(60,90), \\\n",
    "                units='cm/s', export=\"POP_field_drift_world_U50\", title=f\"U at index 50 ({str(U_field['time'][50].data)[:10]})\")\n",
    "plot.fromDataset(ULON, ULAT, U_field[300,:,:], polar=False, latRange=(60,90), \\\n",
    "                units='cm/s', export=\"POP_field_drift_world_U300\", title=f\"U at index 300 ({str(U_field['time'][300].data)[:10]})\")\n",
    "plot.fromDataset(ULON, ULAT, V_field[0,:,:], polar=False, latRange=(60,90), \\\n",
    "                units='cm/s', export=\"POP_field_drift_world_V0\", title=f\"U at index 0 ({str(U_field['time'][0].data)[:10]})\")\n",
    "plot.fromDataset(ULON, ULAT, V_field[50,:,:], polar=False, latRange=(60,90), \\\n",
    "                units='cm/s', export=\"POP_field_drift_world_V50\", title=f\"U at index 50 ({str(U_field['time'][50].data)[:10]})\")\n",
    "plot.fromDataset(ULON, ULAT, V_field[300,:,:], polar=False, latRange=(60,90), \\\n",
    "                units='cm/s', export=\"POP_field_drift_world_V300\", title=f\"U at index 300 ({str(U_field['time'][300].data)[:10]})\")"
   ]
  }
 ],
 "metadata": {
  "kernelspec": {
   "display_name": "Python 3",
   "language": "python",
   "name": "python3"
  },
  "language_info": {
   "codemirror_mode": {
    "name": "ipython",
    "version": 3
   },
   "file_extension": ".py",
   "mimetype": "text/x-python",
   "name": "python",
   "nbconvert_exporter": "python",
   "pygments_lexer": "ipython3",
   "version": "3.7.1"
  }
 },
 "nbformat": 4,
 "nbformat_minor": 2
}
